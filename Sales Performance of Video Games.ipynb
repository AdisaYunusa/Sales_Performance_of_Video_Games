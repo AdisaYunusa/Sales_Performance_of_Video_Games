{
 "cells": [
  {
   "cell_type": "markdown",
   "id": "e6590487",
   "metadata": {},
   "source": [
    "# Sales Performance of Video Games"
   ]
  },
  {
   "cell_type": "code",
   "execution_count": 123,
   "id": "3af38f14",
   "metadata": {},
   "outputs": [],
   "source": [
    "# Importing all required libraries.\n",
    "\n",
    "import csv\n",
    "import pandas as pd\n",
    "import seaborn as sns\n",
    "import matplotlib.pyplot as plt\n",
    "import numpy as np\n",
    "%matplotlib inline\n",
    "from sklearn.linear_model import LinearRegression\n",
    "from sklearn.tree import DecisionTreeRegressor\n",
    "import tensorflow as tf\n",
    "from tensorflow import keras\n",
    "from tensorflow.keras.datasets import mnist\n",
    "from keras.utils import np_utils\n",
    "from tensorflow.keras.models import Sequential\n",
    "from tensorflow.keras.layers import Conv2D, MaxPooling2D, Flatten, Dense, Dropout, BatchNormalization,ZeroPadding2D\n",
    "from tensorflow.keras.optimizers import SGD,Adam\n",
    "from keras.optimizers import RMSprop\n",
    "from sklearn.metrics import classification_report\n",
    "from keras import callbacks\n",
    "from tensorflow.keras import layers\n",
    "from keras_tuner.tuners import RandomSearch\n",
    "from sklearn.preprocessing import StandardScaler \n",
    "from sklearn.linear_model import LinearRegression \n",
    "import warnings\n",
    "warnings.filterwarnings('ignore')\n",
    "from sklearn.model_selection import KFold, train_test_split, StratifiedKFold, cross_val_score\n",
    "from sklearn.ensemble import RandomForestRegressor\n",
    "from sklearn.linear_model import Lasso\n",
    "from sklearn.linear_model import Ridge\n",
    "from sklearn import svm\n",
    "from sklearn.preprocessing import StandardScaler\n",
    "from sklearn.ensemble import GradientBoostingRegressor\n",
    "from sklearn.tree import DecisionTreeClassifier\n",
    "from sklearn.cluster import KMeans"
   ]
  },
  {
   "cell_type": "code",
   "execution_count": 2,
   "id": "3c0c8c25",
   "metadata": {},
   "outputs": [],
   "source": [
    "# Importing csv data into a dataframe.\n",
    "\n",
    "video_df = pd.read_csv(\"./Video_Games.csv\")"
   ]
  },
  {
   "cell_type": "code",
   "execution_count": 3,
   "id": "82e8911a",
   "metadata": {
    "scrolled": true
   },
   "outputs": [
    {
     "data": {
      "text/html": [
       "<div>\n",
       "<style scoped>\n",
       "    .dataframe tbody tr th:only-of-type {\n",
       "        vertical-align: middle;\n",
       "    }\n",
       "\n",
       "    .dataframe tbody tr th {\n",
       "        vertical-align: top;\n",
       "    }\n",
       "\n",
       "    .dataframe thead th {\n",
       "        text-align: right;\n",
       "    }\n",
       "</style>\n",
       "<table border=\"1\" class=\"dataframe\">\n",
       "  <thead>\n",
       "    <tr style=\"text-align: right;\">\n",
       "      <th></th>\n",
       "      <th>Name</th>\n",
       "      <th>Platform</th>\n",
       "      <th>Year_of_Release</th>\n",
       "      <th>Genre</th>\n",
       "      <th>Publisher</th>\n",
       "      <th>NA_Sales</th>\n",
       "      <th>EU_Sales</th>\n",
       "      <th>JP_Sales</th>\n",
       "      <th>Other_Sales</th>\n",
       "      <th>Global_Sales</th>\n",
       "      <th>Critic_Score</th>\n",
       "      <th>Critic_Count</th>\n",
       "      <th>User_Score</th>\n",
       "      <th>User_Count</th>\n",
       "      <th>Developer</th>\n",
       "      <th>Rating</th>\n",
       "    </tr>\n",
       "  </thead>\n",
       "  <tbody>\n",
       "    <tr>\n",
       "      <th>0</th>\n",
       "      <td>Wii Sports</td>\n",
       "      <td>Wii</td>\n",
       "      <td>2006.0</td>\n",
       "      <td>Sports</td>\n",
       "      <td>Nintendo</td>\n",
       "      <td>41.36</td>\n",
       "      <td>28.96</td>\n",
       "      <td>3.77</td>\n",
       "      <td>8.45</td>\n",
       "      <td>82.53</td>\n",
       "      <td>76.0</td>\n",
       "      <td>51.0</td>\n",
       "      <td>8</td>\n",
       "      <td>322.0</td>\n",
       "      <td>Nintendo</td>\n",
       "      <td>E</td>\n",
       "    </tr>\n",
       "    <tr>\n",
       "      <th>1</th>\n",
       "      <td>Super Mario Bros.</td>\n",
       "      <td>NES</td>\n",
       "      <td>1985.0</td>\n",
       "      <td>Platform</td>\n",
       "      <td>Nintendo</td>\n",
       "      <td>29.08</td>\n",
       "      <td>3.58</td>\n",
       "      <td>6.81</td>\n",
       "      <td>0.77</td>\n",
       "      <td>40.24</td>\n",
       "      <td>NaN</td>\n",
       "      <td>NaN</td>\n",
       "      <td>NaN</td>\n",
       "      <td>NaN</td>\n",
       "      <td>NaN</td>\n",
       "      <td>NaN</td>\n",
       "    </tr>\n",
       "    <tr>\n",
       "      <th>2</th>\n",
       "      <td>Mario Kart Wii</td>\n",
       "      <td>Wii</td>\n",
       "      <td>2008.0</td>\n",
       "      <td>Racing</td>\n",
       "      <td>Nintendo</td>\n",
       "      <td>15.68</td>\n",
       "      <td>12.76</td>\n",
       "      <td>3.79</td>\n",
       "      <td>3.29</td>\n",
       "      <td>35.52</td>\n",
       "      <td>82.0</td>\n",
       "      <td>73.0</td>\n",
       "      <td>8.3</td>\n",
       "      <td>709.0</td>\n",
       "      <td>Nintendo</td>\n",
       "      <td>E</td>\n",
       "    </tr>\n",
       "    <tr>\n",
       "      <th>3</th>\n",
       "      <td>Wii Sports Resort</td>\n",
       "      <td>Wii</td>\n",
       "      <td>2009.0</td>\n",
       "      <td>Sports</td>\n",
       "      <td>Nintendo</td>\n",
       "      <td>15.61</td>\n",
       "      <td>10.93</td>\n",
       "      <td>3.28</td>\n",
       "      <td>2.95</td>\n",
       "      <td>32.77</td>\n",
       "      <td>80.0</td>\n",
       "      <td>73.0</td>\n",
       "      <td>8</td>\n",
       "      <td>192.0</td>\n",
       "      <td>Nintendo</td>\n",
       "      <td>E</td>\n",
       "    </tr>\n",
       "    <tr>\n",
       "      <th>4</th>\n",
       "      <td>Pokemon Red/Pokemon Blue</td>\n",
       "      <td>GB</td>\n",
       "      <td>1996.0</td>\n",
       "      <td>Role-Playing</td>\n",
       "      <td>Nintendo</td>\n",
       "      <td>11.27</td>\n",
       "      <td>8.89</td>\n",
       "      <td>10.22</td>\n",
       "      <td>1.00</td>\n",
       "      <td>31.37</td>\n",
       "      <td>NaN</td>\n",
       "      <td>NaN</td>\n",
       "      <td>NaN</td>\n",
       "      <td>NaN</td>\n",
       "      <td>NaN</td>\n",
       "      <td>NaN</td>\n",
       "    </tr>\n",
       "    <tr>\n",
       "      <th>...</th>\n",
       "      <td>...</td>\n",
       "      <td>...</td>\n",
       "      <td>...</td>\n",
       "      <td>...</td>\n",
       "      <td>...</td>\n",
       "      <td>...</td>\n",
       "      <td>...</td>\n",
       "      <td>...</td>\n",
       "      <td>...</td>\n",
       "      <td>...</td>\n",
       "      <td>...</td>\n",
       "      <td>...</td>\n",
       "      <td>...</td>\n",
       "      <td>...</td>\n",
       "      <td>...</td>\n",
       "      <td>...</td>\n",
       "    </tr>\n",
       "    <tr>\n",
       "      <th>16714</th>\n",
       "      <td>Samurai Warriors: Sanada Maru</td>\n",
       "      <td>PS3</td>\n",
       "      <td>2016.0</td>\n",
       "      <td>Action</td>\n",
       "      <td>Tecmo Koei</td>\n",
       "      <td>0.00</td>\n",
       "      <td>0.00</td>\n",
       "      <td>0.01</td>\n",
       "      <td>0.00</td>\n",
       "      <td>0.01</td>\n",
       "      <td>NaN</td>\n",
       "      <td>NaN</td>\n",
       "      <td>NaN</td>\n",
       "      <td>NaN</td>\n",
       "      <td>NaN</td>\n",
       "      <td>NaN</td>\n",
       "    </tr>\n",
       "    <tr>\n",
       "      <th>16715</th>\n",
       "      <td>LMA Manager 2007</td>\n",
       "      <td>X360</td>\n",
       "      <td>2006.0</td>\n",
       "      <td>Sports</td>\n",
       "      <td>Codemasters</td>\n",
       "      <td>0.00</td>\n",
       "      <td>0.01</td>\n",
       "      <td>0.00</td>\n",
       "      <td>0.00</td>\n",
       "      <td>0.01</td>\n",
       "      <td>NaN</td>\n",
       "      <td>NaN</td>\n",
       "      <td>NaN</td>\n",
       "      <td>NaN</td>\n",
       "      <td>NaN</td>\n",
       "      <td>NaN</td>\n",
       "    </tr>\n",
       "    <tr>\n",
       "      <th>16716</th>\n",
       "      <td>Haitaka no Psychedelica</td>\n",
       "      <td>PSV</td>\n",
       "      <td>2016.0</td>\n",
       "      <td>Adventure</td>\n",
       "      <td>Idea Factory</td>\n",
       "      <td>0.00</td>\n",
       "      <td>0.00</td>\n",
       "      <td>0.01</td>\n",
       "      <td>0.00</td>\n",
       "      <td>0.01</td>\n",
       "      <td>NaN</td>\n",
       "      <td>NaN</td>\n",
       "      <td>NaN</td>\n",
       "      <td>NaN</td>\n",
       "      <td>NaN</td>\n",
       "      <td>NaN</td>\n",
       "    </tr>\n",
       "    <tr>\n",
       "      <th>16717</th>\n",
       "      <td>Spirits &amp; Spells</td>\n",
       "      <td>GBA</td>\n",
       "      <td>2003.0</td>\n",
       "      <td>Platform</td>\n",
       "      <td>Wanadoo</td>\n",
       "      <td>0.01</td>\n",
       "      <td>0.00</td>\n",
       "      <td>0.00</td>\n",
       "      <td>0.00</td>\n",
       "      <td>0.01</td>\n",
       "      <td>NaN</td>\n",
       "      <td>NaN</td>\n",
       "      <td>NaN</td>\n",
       "      <td>NaN</td>\n",
       "      <td>NaN</td>\n",
       "      <td>NaN</td>\n",
       "    </tr>\n",
       "    <tr>\n",
       "      <th>16718</th>\n",
       "      <td>Winning Post 8 2016</td>\n",
       "      <td>PSV</td>\n",
       "      <td>2016.0</td>\n",
       "      <td>Simulation</td>\n",
       "      <td>Tecmo Koei</td>\n",
       "      <td>0.00</td>\n",
       "      <td>0.00</td>\n",
       "      <td>0.01</td>\n",
       "      <td>0.00</td>\n",
       "      <td>0.01</td>\n",
       "      <td>NaN</td>\n",
       "      <td>NaN</td>\n",
       "      <td>NaN</td>\n",
       "      <td>NaN</td>\n",
       "      <td>NaN</td>\n",
       "      <td>NaN</td>\n",
       "    </tr>\n",
       "  </tbody>\n",
       "</table>\n",
       "<p>16719 rows × 16 columns</p>\n",
       "</div>"
      ],
      "text/plain": [
       "                                Name Platform  Year_of_Release         Genre  \\\n",
       "0                         Wii Sports      Wii           2006.0        Sports   \n",
       "1                  Super Mario Bros.      NES           1985.0      Platform   \n",
       "2                     Mario Kart Wii      Wii           2008.0        Racing   \n",
       "3                  Wii Sports Resort      Wii           2009.0        Sports   \n",
       "4           Pokemon Red/Pokemon Blue       GB           1996.0  Role-Playing   \n",
       "...                              ...      ...              ...           ...   \n",
       "16714  Samurai Warriors: Sanada Maru      PS3           2016.0        Action   \n",
       "16715               LMA Manager 2007     X360           2006.0        Sports   \n",
       "16716        Haitaka no Psychedelica      PSV           2016.0     Adventure   \n",
       "16717               Spirits & Spells      GBA           2003.0      Platform   \n",
       "16718            Winning Post 8 2016      PSV           2016.0    Simulation   \n",
       "\n",
       "          Publisher  NA_Sales  EU_Sales  JP_Sales  Other_Sales  Global_Sales  \\\n",
       "0          Nintendo     41.36     28.96      3.77         8.45         82.53   \n",
       "1          Nintendo     29.08      3.58      6.81         0.77         40.24   \n",
       "2          Nintendo     15.68     12.76      3.79         3.29         35.52   \n",
       "3          Nintendo     15.61     10.93      3.28         2.95         32.77   \n",
       "4          Nintendo     11.27      8.89     10.22         1.00         31.37   \n",
       "...             ...       ...       ...       ...          ...           ...   \n",
       "16714    Tecmo Koei      0.00      0.00      0.01         0.00          0.01   \n",
       "16715   Codemasters      0.00      0.01      0.00         0.00          0.01   \n",
       "16716  Idea Factory      0.00      0.00      0.01         0.00          0.01   \n",
       "16717       Wanadoo      0.01      0.00      0.00         0.00          0.01   \n",
       "16718    Tecmo Koei      0.00      0.00      0.01         0.00          0.01   \n",
       "\n",
       "       Critic_Score  Critic_Count User_Score  User_Count Developer Rating  \n",
       "0              76.0          51.0          8       322.0  Nintendo      E  \n",
       "1               NaN           NaN        NaN         NaN       NaN    NaN  \n",
       "2              82.0          73.0        8.3       709.0  Nintendo      E  \n",
       "3              80.0          73.0          8       192.0  Nintendo      E  \n",
       "4               NaN           NaN        NaN         NaN       NaN    NaN  \n",
       "...             ...           ...        ...         ...       ...    ...  \n",
       "16714           NaN           NaN        NaN         NaN       NaN    NaN  \n",
       "16715           NaN           NaN        NaN         NaN       NaN    NaN  \n",
       "16716           NaN           NaN        NaN         NaN       NaN    NaN  \n",
       "16717           NaN           NaN        NaN         NaN       NaN    NaN  \n",
       "16718           NaN           NaN        NaN         NaN       NaN    NaN  \n",
       "\n",
       "[16719 rows x 16 columns]"
      ]
     },
     "execution_count": 3,
     "metadata": {},
     "output_type": "execute_result"
    }
   ],
   "source": [
    "# Viewing the dataframe.\n",
    "\n",
    "video_df"
   ]
  },
  {
   "cell_type": "code",
   "execution_count": 4,
   "id": "92d9e80a",
   "metadata": {},
   "outputs": [
    {
     "name": "stdout",
     "output_type": "stream",
     "text": [
      "<class 'pandas.core.frame.DataFrame'>\n",
      "RangeIndex: 16719 entries, 0 to 16718\n",
      "Data columns (total 16 columns):\n",
      " #   Column           Non-Null Count  Dtype  \n",
      "---  ------           --------------  -----  \n",
      " 0   Name             16717 non-null  object \n",
      " 1   Platform         16719 non-null  object \n",
      " 2   Year_of_Release  16450 non-null  float64\n",
      " 3   Genre            16717 non-null  object \n",
      " 4   Publisher        16665 non-null  object \n",
      " 5   NA_Sales         16719 non-null  float64\n",
      " 6   EU_Sales         16719 non-null  float64\n",
      " 7   JP_Sales         16719 non-null  float64\n",
      " 8   Other_Sales      16719 non-null  float64\n",
      " 9   Global_Sales     16719 non-null  float64\n",
      " 10  Critic_Score     8137 non-null   float64\n",
      " 11  Critic_Count     8137 non-null   float64\n",
      " 12  User_Score       10015 non-null  object \n",
      " 13  User_Count       7590 non-null   float64\n",
      " 14  Developer        10096 non-null  object \n",
      " 15  Rating           9950 non-null   object \n",
      "dtypes: float64(9), object(7)\n",
      "memory usage: 2.0+ MB\n"
     ]
    }
   ],
   "source": [
    "# Retrieving information about the dataframe.\n",
    "\n",
    "video_df.info()"
   ]
  },
  {
   "cell_type": "code",
   "execution_count": 5,
   "id": "177c5841",
   "metadata": {},
   "outputs": [
    {
     "data": {
      "text/html": [
       "<div>\n",
       "<style scoped>\n",
       "    .dataframe tbody tr th:only-of-type {\n",
       "        vertical-align: middle;\n",
       "    }\n",
       "\n",
       "    .dataframe tbody tr th {\n",
       "        vertical-align: top;\n",
       "    }\n",
       "\n",
       "    .dataframe thead th {\n",
       "        text-align: right;\n",
       "    }\n",
       "</style>\n",
       "<table border=\"1\" class=\"dataframe\">\n",
       "  <thead>\n",
       "    <tr style=\"text-align: right;\">\n",
       "      <th></th>\n",
       "      <th>Year_of_Release</th>\n",
       "      <th>NA_Sales</th>\n",
       "      <th>EU_Sales</th>\n",
       "      <th>JP_Sales</th>\n",
       "      <th>Other_Sales</th>\n",
       "      <th>Global_Sales</th>\n",
       "      <th>Critic_Score</th>\n",
       "      <th>Critic_Count</th>\n",
       "      <th>User_Count</th>\n",
       "    </tr>\n",
       "  </thead>\n",
       "  <tbody>\n",
       "    <tr>\n",
       "      <th>count</th>\n",
       "      <td>16450.000000</td>\n",
       "      <td>16719.000000</td>\n",
       "      <td>16719.000000</td>\n",
       "      <td>16719.000000</td>\n",
       "      <td>16719.000000</td>\n",
       "      <td>16719.000000</td>\n",
       "      <td>8137.000000</td>\n",
       "      <td>8137.000000</td>\n",
       "      <td>7590.000000</td>\n",
       "    </tr>\n",
       "    <tr>\n",
       "      <th>mean</th>\n",
       "      <td>2006.487356</td>\n",
       "      <td>0.263330</td>\n",
       "      <td>0.145025</td>\n",
       "      <td>0.077602</td>\n",
       "      <td>0.047332</td>\n",
       "      <td>0.533543</td>\n",
       "      <td>68.967679</td>\n",
       "      <td>26.360821</td>\n",
       "      <td>162.229908</td>\n",
       "    </tr>\n",
       "    <tr>\n",
       "      <th>std</th>\n",
       "      <td>5.878995</td>\n",
       "      <td>0.813514</td>\n",
       "      <td>0.503283</td>\n",
       "      <td>0.308818</td>\n",
       "      <td>0.186710</td>\n",
       "      <td>1.547935</td>\n",
       "      <td>13.938165</td>\n",
       "      <td>18.980495</td>\n",
       "      <td>561.282326</td>\n",
       "    </tr>\n",
       "    <tr>\n",
       "      <th>min</th>\n",
       "      <td>1980.000000</td>\n",
       "      <td>0.000000</td>\n",
       "      <td>0.000000</td>\n",
       "      <td>0.000000</td>\n",
       "      <td>0.000000</td>\n",
       "      <td>0.010000</td>\n",
       "      <td>13.000000</td>\n",
       "      <td>3.000000</td>\n",
       "      <td>4.000000</td>\n",
       "    </tr>\n",
       "    <tr>\n",
       "      <th>25%</th>\n",
       "      <td>2003.000000</td>\n",
       "      <td>0.000000</td>\n",
       "      <td>0.000000</td>\n",
       "      <td>0.000000</td>\n",
       "      <td>0.000000</td>\n",
       "      <td>0.060000</td>\n",
       "      <td>60.000000</td>\n",
       "      <td>12.000000</td>\n",
       "      <td>10.000000</td>\n",
       "    </tr>\n",
       "    <tr>\n",
       "      <th>50%</th>\n",
       "      <td>2007.000000</td>\n",
       "      <td>0.080000</td>\n",
       "      <td>0.020000</td>\n",
       "      <td>0.000000</td>\n",
       "      <td>0.010000</td>\n",
       "      <td>0.170000</td>\n",
       "      <td>71.000000</td>\n",
       "      <td>21.000000</td>\n",
       "      <td>24.000000</td>\n",
       "    </tr>\n",
       "    <tr>\n",
       "      <th>75%</th>\n",
       "      <td>2010.000000</td>\n",
       "      <td>0.240000</td>\n",
       "      <td>0.110000</td>\n",
       "      <td>0.040000</td>\n",
       "      <td>0.030000</td>\n",
       "      <td>0.470000</td>\n",
       "      <td>79.000000</td>\n",
       "      <td>36.000000</td>\n",
       "      <td>81.000000</td>\n",
       "    </tr>\n",
       "    <tr>\n",
       "      <th>max</th>\n",
       "      <td>2020.000000</td>\n",
       "      <td>41.360000</td>\n",
       "      <td>28.960000</td>\n",
       "      <td>10.220000</td>\n",
       "      <td>10.570000</td>\n",
       "      <td>82.530000</td>\n",
       "      <td>98.000000</td>\n",
       "      <td>113.000000</td>\n",
       "      <td>10665.000000</td>\n",
       "    </tr>\n",
       "  </tbody>\n",
       "</table>\n",
       "</div>"
      ],
      "text/plain": [
       "       Year_of_Release      NA_Sales      EU_Sales      JP_Sales  \\\n",
       "count     16450.000000  16719.000000  16719.000000  16719.000000   \n",
       "mean       2006.487356      0.263330      0.145025      0.077602   \n",
       "std           5.878995      0.813514      0.503283      0.308818   \n",
       "min        1980.000000      0.000000      0.000000      0.000000   \n",
       "25%        2003.000000      0.000000      0.000000      0.000000   \n",
       "50%        2007.000000      0.080000      0.020000      0.000000   \n",
       "75%        2010.000000      0.240000      0.110000      0.040000   \n",
       "max        2020.000000     41.360000     28.960000     10.220000   \n",
       "\n",
       "        Other_Sales  Global_Sales  Critic_Score  Critic_Count    User_Count  \n",
       "count  16719.000000  16719.000000   8137.000000   8137.000000   7590.000000  \n",
       "mean       0.047332      0.533543     68.967679     26.360821    162.229908  \n",
       "std        0.186710      1.547935     13.938165     18.980495    561.282326  \n",
       "min        0.000000      0.010000     13.000000      3.000000      4.000000  \n",
       "25%        0.000000      0.060000     60.000000     12.000000     10.000000  \n",
       "50%        0.010000      0.170000     71.000000     21.000000     24.000000  \n",
       "75%        0.030000      0.470000     79.000000     36.000000     81.000000  \n",
       "max       10.570000     82.530000     98.000000    113.000000  10665.000000  "
      ]
     },
     "execution_count": 5,
     "metadata": {},
     "output_type": "execute_result"
    }
   ],
   "source": [
    "video_df.describe()"
   ]
  },
  {
   "cell_type": "code",
   "execution_count": 6,
   "id": "d2a2bb9e",
   "metadata": {},
   "outputs": [
    {
     "data": {
      "text/plain": [
       "0"
      ]
     },
     "execution_count": 6,
     "metadata": {},
     "output_type": "execute_result"
    }
   ],
   "source": [
    "video_df.duplicated().sum()"
   ]
  },
  {
   "cell_type": "code",
   "execution_count": 7,
   "id": "62e19562",
   "metadata": {},
   "outputs": [
    {
     "data": {
      "text/plain": [
       "Name                  2\n",
       "Platform              0\n",
       "Year_of_Release     269\n",
       "Genre                 2\n",
       "Publisher            54\n",
       "NA_Sales              0\n",
       "EU_Sales              0\n",
       "JP_Sales              0\n",
       "Other_Sales           0\n",
       "Global_Sales          0\n",
       "Critic_Score       8582\n",
       "Critic_Count       8582\n",
       "User_Score         6704\n",
       "User_Count         9129\n",
       "Developer          6623\n",
       "Rating             6769\n",
       "dtype: int64"
      ]
     },
     "execution_count": 7,
     "metadata": {},
     "output_type": "execute_result"
    }
   ],
   "source": [
    "video_df.isna().sum()"
   ]
  },
  {
   "cell_type": "markdown",
   "id": "9a4af298",
   "metadata": {},
   "source": [
    "## Data Cleaning"
   ]
  },
  {
   "cell_type": "code",
   "execution_count": 8,
   "id": "8b3cfa3f",
   "metadata": {},
   "outputs": [],
   "source": [
    "\"\"\"\n",
    "\n",
    "The Name and Genre are columns in which values cannot be derived from another feature or target.\n",
    "Also, the total number of the missing data samples from the aforementioned dataseries is 4, which is significantly....\n",
    "small compared to the total number data records.\n",
    "Hence, these missing data samples would be dropped from the dataframe using the dropna() method and the subset........\n",
    "parameter to remove record from multiple dataseries.\n",
    "\n",
    "\"\"\"\n",
    "\n",
    "video_df = video_df.dropna(subset = [\"Name\"])\n",
    "video_df = video_df.dropna(subset = [\"Genre\"])"
   ]
  },
  {
   "cell_type": "code",
   "execution_count": 9,
   "id": "a9e17fe8",
   "metadata": {},
   "outputs": [
    {
     "name": "stdout",
     "output_type": "stream",
     "text": [
      "<class 'pandas.core.frame.DataFrame'>\n",
      "Int64Index: 16717 entries, 0 to 16718\n",
      "Data columns (total 16 columns):\n",
      " #   Column           Non-Null Count  Dtype  \n",
      "---  ------           --------------  -----  \n",
      " 0   Name             16717 non-null  object \n",
      " 1   Platform         16717 non-null  object \n",
      " 2   Year_of_Release  16448 non-null  float64\n",
      " 3   Genre            16717 non-null  object \n",
      " 4   Publisher        16663 non-null  object \n",
      " 5   NA_Sales         16717 non-null  float64\n",
      " 6   EU_Sales         16717 non-null  float64\n",
      " 7   JP_Sales         16717 non-null  float64\n",
      " 8   Other_Sales      16717 non-null  float64\n",
      " 9   Global_Sales     16717 non-null  float64\n",
      " 10  Critic_Score     8137 non-null   float64\n",
      " 11  Critic_Count     8137 non-null   float64\n",
      " 12  User_Score       10015 non-null  object \n",
      " 13  User_Count       7590 non-null   float64\n",
      " 14  Developer        10096 non-null  object \n",
      " 15  Rating           9950 non-null   object \n",
      "dtypes: float64(9), object(7)\n",
      "memory usage: 2.2+ MB\n"
     ]
    }
   ],
   "source": [
    "video_df.info()"
   ]
  },
  {
   "cell_type": "code",
   "execution_count": 10,
   "id": "e1ec3473",
   "metadata": {},
   "outputs": [],
   "source": [
    "\"\"\"\n",
    "\n",
    "Critic Score and User Score are important to determine the Rating a game. \n",
    "Using the Pandas interpolate() method to estimated unknown values within a range of the known values for Year_of_Release,.. \n",
    "........Critic Score, Critic Count, User Score, User Count and Developer.\n",
    "\n",
    "\"\"\"\n",
    "\n",
    "video_df[\"Year_of_Release\"].interpolate(inplace = True)\n",
    "\n",
    "video_df[\"Critic_Score\"].interpolate(inplace = True)\n",
    "\n",
    "video_df[\"Critic_Count\"].interpolate(inplace = True)\n",
    "\n",
    "# Converting the dataseries into a numeric datatype (float) as it contains some string values.\n",
    "video_df[\"User_Score\"] = pd.to_numeric(video_df[\"User_Score\"], errors= \"coerce\") \n",
    "video_df[\"User_Score\"].interpolate(inplace = True)\n",
    "\n",
    "video_df[\"User_Count\"].interpolate(inplace = True)\n",
    "\n",
    "video_df[\"Developer\"].interpolate(inplace = True)\n"
   ]
  },
  {
   "cell_type": "code",
   "execution_count": 11,
   "id": "9e09803c",
   "metadata": {},
   "outputs": [],
   "source": [
    "\"\"\"\n",
    "\n",
    "The Year_of_Release, Critic_Count and User_Count are of datatype of float.\n",
    "Converting from float to int as Year and count are whole number and not fraction.\n",
    "\n",
    "\"\"\"\n",
    "\n",
    "video_df[[\"Year_of_Release\",\"Critic_Count\",\"User_Count\"]] = video_df[[\"Year_of_Release\",\n",
    "                                                                      \"Critic_Count\",\"User_Count\"]].astype(\"int64\")"
   ]
  },
  {
   "cell_type": "code",
   "execution_count": 12,
   "id": "a66eb2eb",
   "metadata": {},
   "outputs": [],
   "source": [
    "\"\"\"\n",
    "\n",
    "All missing values (NaN) for dataseries Rating was replace with the value \"Unknown\".\n",
    "This is so, as Rating of a video game is dependent on Critic_Score & User_Score and the accurate derivation is unknown.\n",
    "\n",
    "\"\"\"\n",
    "\n",
    "video_df[\"Rating\"].fillna(\"Unknown\", inplace = True)"
   ]
  },
  {
   "cell_type": "code",
   "execution_count": 13,
   "id": "9aa56450",
   "metadata": {},
   "outputs": [],
   "source": [
    "\"\"\"\n",
    "To fill the \"NaN\" value in the Developer dataseries, the mode (Publisher) for each Genre of video game was computed and...\n",
    ".... used to fill the NaN values.\n",
    "\n",
    "\n",
    "\"\"\"\n",
    "for x in video_df[\"Genre\"].unique():\n",
    "    genre_df = video_df[video_df[\"Genre\"] == x]\n",
    "    modes = genre_df[\"Publisher\"].mode()\n",
    "    for i in modes:\n",
    "        for index, row in video_df.iterrows():\n",
    "            if row[\"Genre\"] == x and pd.isna(row[\"Publisher\"]):\n",
    "                video_df.loc[index, \"Publisher\"] = i       \n"
   ]
  },
  {
   "cell_type": "code",
   "execution_count": 14,
   "id": "f65a94ce",
   "metadata": {},
   "outputs": [],
   "source": [
    "\"\"\"\n",
    "To fill the \"NaN\" value in the Developer dataseries, the mode (Developer) for each Genre of video game was computed and...\n",
    ".... used to fill the NaN values.\n",
    "\n",
    "\n",
    "\"\"\"\n",
    "for x in video_df[\"Genre\"].unique():\n",
    "    genre_df = video_df[video_df[\"Genre\"] == x]\n",
    "    modes = genre_df[\"Developer\"].mode()\n",
    "    for i in modes:\n",
    "        for index, row in video_df.iterrows():\n",
    "            if row[\"Genre\"] == x and pd.isna(row[\"Developer\"]):\n",
    "                video_df.loc[index, \"Developer\"] = i       \n"
   ]
  },
  {
   "cell_type": "code",
   "execution_count": 15,
   "id": "0d77ccda",
   "metadata": {
    "scrolled": true
   },
   "outputs": [
    {
     "data": {
      "text/plain": [
       "Name               0\n",
       "Platform           0\n",
       "Year_of_Release    0\n",
       "Genre              0\n",
       "Publisher          0\n",
       "NA_Sales           0\n",
       "EU_Sales           0\n",
       "JP_Sales           0\n",
       "Other_Sales        0\n",
       "Global_Sales       0\n",
       "Critic_Score       0\n",
       "Critic_Count       0\n",
       "User_Score         0\n",
       "User_Count         0\n",
       "Developer          0\n",
       "Rating             0\n",
       "dtype: int64"
      ]
     },
     "execution_count": 15,
     "metadata": {},
     "output_type": "execute_result"
    }
   ],
   "source": [
    "# Verifying if there is any missing value in the dataframe.\n",
    "\n",
    "video_df.isna().sum()"
   ]
  },
  {
   "cell_type": "code",
   "execution_count": 16,
   "id": "80dd8eb3",
   "metadata": {
    "scrolled": true
   },
   "outputs": [
    {
     "data": {
      "text/plain": [
       "PS2     2161\n",
       "DS      2152\n",
       "PS3     1331\n",
       "Wii     1320\n",
       "X360    1262\n",
       "PSP     1209\n",
       "PS      1197\n",
       "PC       974\n",
       "XB       824\n",
       "GBA      822\n",
       "GC       556\n",
       "3DS      520\n",
       "PSV      432\n",
       "PS4      393\n",
       "N64      319\n",
       "XOne     247\n",
       "SNES     239\n",
       "SAT      173\n",
       "WiiU     147\n",
       "2600     133\n",
       "NES       98\n",
       "GB        98\n",
       "DC        52\n",
       "GEN       27\n",
       "NG        12\n",
       "SCD        6\n",
       "WS         6\n",
       "3DO        3\n",
       "TG16       2\n",
       "GG         1\n",
       "PCFX       1\n",
       "Name: Platform, dtype: int64"
      ]
     },
     "execution_count": 16,
     "metadata": {},
     "output_type": "execute_result"
    }
   ],
   "source": [
    "# Retrieving information (count) of each platforms.\n",
    "video_df[\"Platform\"].value_counts()"
   ]
  },
  {
   "cell_type": "markdown",
   "id": "01695861",
   "metadata": {},
   "source": [
    "**For Better analyis, some platforms would be grouped.**"
   ]
  },
  {
   "cell_type": "code",
   "execution_count": 17,
   "id": "51065746",
   "metadata": {},
   "outputs": [],
   "source": [
    "# Setting the a bar of 800 for the grouping.\n",
    "platform_grp = 800\n",
    "\n",
    "# Assign a variable for the count of each platform.\n",
    "platform_count = video_df[\"Platform\"].value_counts()"
   ]
  },
  {
   "cell_type": "code",
   "execution_count": 18,
   "id": "f2b3c6e6",
   "metadata": {},
   "outputs": [],
   "source": [
    "# Filtering top performaing platforms as those with at least 800 occurrence\n",
    "platform_top = platform_count[platform_count.values >= platform_grp].index.tolist()"
   ]
  },
  {
   "cell_type": "code",
   "execution_count": 19,
   "id": "b4b6315a",
   "metadata": {},
   "outputs": [],
   "source": [
    "list_platform = []\n",
    "\n",
    "for sales_data in range(video_df.shape[0]):  # loop through all rows in dataframe\n",
    "    platform_names = video_df.Platform.values[sales_data]  # retreiving the values in platform column\n",
    "    categorize = 0  # categorize variable\n",
    "    for value in platform_top:  # loop through the list of platform considered\n",
    "        if value in platform_names and categorize == 0:  # checking if platform name is in the row\n",
    "            list_platform.append(value)\n",
    "            categorize = 1\n",
    "    if categorize == 0:  # checking if the current platform is different from the list of platforms considered\n",
    "        list_platform.append(\"Other Platforms\")"
   ]
  },
  {
   "cell_type": "code",
   "execution_count": 20,
   "id": "cdd0c626",
   "metadata": {},
   "outputs": [],
   "source": [
    "video_df[\"All_platforms\"] = list_platform"
   ]
  },
  {
   "cell_type": "code",
   "execution_count": 21,
   "id": "d7cbcfd7",
   "metadata": {},
   "outputs": [
    {
     "data": {
      "text/plain": [
       "DS                 2672\n",
       "PS2                2161\n",
       "PS                 2022\n",
       "Other Platforms    1972\n",
       "Wii                1467\n",
       "PS3                1331\n",
       "X360               1262\n",
       "PSP                1209\n",
       "PC                  975\n",
       "XB                  824\n",
       "GBA                 822\n",
       "Name: All_platforms, dtype: int64"
      ]
     },
     "execution_count": 21,
     "metadata": {},
     "output_type": "execute_result"
    }
   ],
   "source": [
    "# Verifying the counts. \n",
    "video_df[\"All_platforms\"].value_counts()"
   ]
  },
  {
   "cell_type": "code",
   "execution_count": 22,
   "id": "b45d0bc0",
   "metadata": {},
   "outputs": [
    {
     "data": {
      "image/png": "[encoded data removed]",
      "text/plain": [
       "<Figure size 635.375x500 with 1 Axes>"
      ]
     },
     "metadata": {},
     "output_type": "display_data"
    }
   ],
   "source": [
    " sns.displot(data =video_df, y = \"All_platforms\", hue = \"Genre\");"
   ]
  },
  {
   "cell_type": "markdown",
   "id": "7d7942e3",
   "metadata": {},
   "source": [
    "### Categorial Variables Plot"
   ]
  },
  {
   "cell_type": "code",
   "execution_count": 23,
   "id": "daee12b9",
   "metadata": {},
   "outputs": [
    {
     "data": {
      "text/html": [
       "<div>\n",
       "<style scoped>\n",
       "    .dataframe tbody tr th:only-of-type {\n",
       "        vertical-align: middle;\n",
       "    }\n",
       "\n",
       "    .dataframe tbody tr th {\n",
       "        vertical-align: top;\n",
       "    }\n",
       "\n",
       "    .dataframe thead th {\n",
       "        text-align: right;\n",
       "    }\n",
       "</style>\n",
       "<table border=\"1\" class=\"dataframe\">\n",
       "  <thead>\n",
       "    <tr style=\"text-align: right;\">\n",
       "      <th></th>\n",
       "      <th>count</th>\n",
       "      <th>unique</th>\n",
       "      <th>top</th>\n",
       "      <th>freq</th>\n",
       "    </tr>\n",
       "  </thead>\n",
       "  <tbody>\n",
       "    <tr>\n",
       "      <th>Name</th>\n",
       "      <td>16717</td>\n",
       "      <td>11562</td>\n",
       "      <td>Need for Speed: Most Wanted</td>\n",
       "      <td>12</td>\n",
       "    </tr>\n",
       "    <tr>\n",
       "      <th>Platform</th>\n",
       "      <td>16717</td>\n",
       "      <td>31</td>\n",
       "      <td>PS2</td>\n",
       "      <td>2161</td>\n",
       "    </tr>\n",
       "    <tr>\n",
       "      <th>Genre</th>\n",
       "      <td>16717</td>\n",
       "      <td>12</td>\n",
       "      <td>Action</td>\n",
       "      <td>3370</td>\n",
       "    </tr>\n",
       "    <tr>\n",
       "      <th>Publisher</th>\n",
       "      <td>16717</td>\n",
       "      <td>581</td>\n",
       "      <td>Electronic Arts</td>\n",
       "      <td>1360</td>\n",
       "    </tr>\n",
       "    <tr>\n",
       "      <th>Developer</th>\n",
       "      <td>16717</td>\n",
       "      <td>1696</td>\n",
       "      <td>Omega Force</td>\n",
       "      <td>1224</td>\n",
       "    </tr>\n",
       "    <tr>\n",
       "      <th>Rating</th>\n",
       "      <td>16717</td>\n",
       "      <td>9</td>\n",
       "      <td>Unknown</td>\n",
       "      <td>6767</td>\n",
       "    </tr>\n",
       "    <tr>\n",
       "      <th>All_platforms</th>\n",
       "      <td>16717</td>\n",
       "      <td>11</td>\n",
       "      <td>DS</td>\n",
       "      <td>2672</td>\n",
       "    </tr>\n",
       "  </tbody>\n",
       "</table>\n",
       "</div>"
      ],
      "text/plain": [
       "               count unique                          top  freq\n",
       "Name           16717  11562  Need for Speed: Most Wanted    12\n",
       "Platform       16717     31                          PS2  2161\n",
       "Genre          16717     12                       Action  3370\n",
       "Publisher      16717    581              Electronic Arts  1360\n",
       "Developer      16717   1696                  Omega Force  1224\n",
       "Rating         16717      9                      Unknown  6767\n",
       "All_platforms  16717     11                           DS  2672"
      ]
     },
     "execution_count": 23,
     "metadata": {},
     "output_type": "execute_result"
    }
   ],
   "source": [
    "# Printing of the basic data statistics of all variables.\n",
    "video_df_cv = video_df.select_dtypes(include = \"object\") \n",
    "video_df_cv.describe().transpose()"
   ]
  },
  {
   "cell_type": "code",
   "execution_count": 24,
   "id": "007ff548",
   "metadata": {},
   "outputs": [
    {
     "data": {
      "image/png": "[encoded data removed]",
      "text/plain": [
       "<Figure size 640x480 with 1 Axes>"
      ]
     },
     "metadata": {},
     "output_type": "display_data"
    }
   ],
   "source": [
    "sns.countplot(data=video_df_cv, y = 'All_platforms');"
   ]
  },
  {
   "cell_type": "code",
   "execution_count": 25,
   "id": "9442acb6",
   "metadata": {},
   "outputs": [
    {
     "data": {
      "text/plain": [
       "<seaborn.axisgrid.FacetGrid at 0x1efd7190a60>"
      ]
     },
     "execution_count": 25,
     "metadata": {},
     "output_type": "execute_result"
    },
    {
     "data": {
      "image/png": "[encoded data removed]",
      "text/plain": [
       "<Figure size 614.375x500 with 1 Axes>"
      ]
     },
     "metadata": {},
     "output_type": "display_data"
    }
   ],
   "source": [
    "sns.displot(data =video_df_cv, y = 'Genre', hue = 'Rating')"
   ]
  },
  {
   "cell_type": "markdown",
   "id": "f3efb36c",
   "metadata": {},
   "source": [
    "### Bivariate Analysis"
   ]
  },
  {
   "cell_type": "code",
   "execution_count": 26,
   "id": "7035f0ae",
   "metadata": {},
   "outputs": [],
   "source": [
    "video_df_num = video_df.select_dtypes(exclude = \"object\")"
   ]
  },
  {
   "cell_type": "code",
   "execution_count": 27,
   "id": "a979876f",
   "metadata": {},
   "outputs": [
    {
     "data": {
      "text/plain": [
       "Text(0.5, 1.0, 'Heatmap showing correlation')"
      ]
     },
     "execution_count": 27,
     "metadata": {},
     "output_type": "execute_result"
    },
    {
     "data": {
      "image/png": "[encoded data removed]",
      "text/plain": [
       "<Figure size 800x500 with 2 Axes>"
      ]
     },
     "metadata": {},
     "output_type": "display_data"
    }
   ],
   "source": [
    "video_df_corr = video_df_num.corr() # checking for correlation \n",
    "plt.figure(figsize = (8,5)) #set figure size\n",
    "sns.heatmap(video_df_corr, annot = True, vmin = -1, vmax = 1, cmap = \"YlGnBu\")\n",
    "#Values close to -1 has high negative correlation\n",
    "#Values close to 1 has high positive correlation\n",
    "plt.title(\"Heatmap showing correlation\")\n"
   ]
  },
  {
   "cell_type": "code",
   "execution_count": 28,
   "id": "b80aadf3",
   "metadata": {},
   "outputs": [
    {
     "name": "stdout",
     "output_type": "stream",
     "text": [
      "Coefficients: [ 9.99911824e-01  1.00001112e+00  9.99980533e-01  9.99611085e-01\n",
      "  4.39525382e-07 -6.84975753e-06 -1.28829985e-05 -5.17082226e-08]\n",
      "Intercept: 0.0005305459722555472\n"
     ]
    }
   ],
   "source": [
    "\"\"\"\n",
    "Using the Regression to analyse relationships between the independent variables and the target.\n",
    "The coefficient would inform us about the magnitude and direction of the relationship between feature and a target variable.\n",
    "\"\"\"\n",
    "\n",
    "model = LinearRegression().fit(video_df[[\"NA_Sales\", \"EU_Sales\", \"JP_Sales\", \"Other_Sales\", \"Critic_Score\",\n",
    "                                         \"Critic_Count\", \"User_Score\", \"User_Count\"]], video_df[\"Global_Sales\"])\n",
    "\n",
    "coefficients = model.coef_\n",
    "intercept = model.intercept_\n",
    "\n",
    "print('Coefficients:', coefficients)\n",
    "print('Intercept:', intercept)\n"
   ]
  },
  {
   "cell_type": "code",
   "execution_count": 29,
   "id": "47e9c6c3",
   "metadata": {},
   "outputs": [
    {
     "name": "stdout",
     "output_type": "stream",
     "text": [
      "Feature importances: [7.86790610e-01 1.82670572e-01 2.42290344e-02 3.69062438e-03\n",
      " 5.70169625e-04 6.55170980e-04 1.11508100e-03 2.78738083e-04]\n"
     ]
    }
   ],
   "source": [
    "\"\"\"\n",
    "Using Feature Importance to determine relationships between the independent variables and the target.\n",
    "This wpuld provide information on how much each feature contributes to the prediction of the target variable.\n",
    "\"\"\"\n",
    "\n",
    "model = DecisionTreeRegressor().fit(video_df[[\"NA_Sales\", \"EU_Sales\", \"JP_Sales\", \"Other_Sales\", \"Critic_Score\",\n",
    "                                         \"Critic_Count\", \"User_Score\", \"User_Count\"]], video_df[\"Global_Sales\"])\n",
    "\n",
    "\n",
    "feature_importance = model.feature_importances_\n",
    "\n",
    "print('Feature importances:', feature_importance)\n"
   ]
  },
  {
   "cell_type": "code",
   "execution_count": 30,
   "id": "7285528e",
   "metadata": {},
   "outputs": [],
   "source": [
    "# Creating a function that creates a scatterplot between two numerical features.\n",
    "\n",
    "def func_scatterplot(x, y, title, data = video_df_num):   \n",
    "    plt.figure(figsize = (8,5)) #set figure size\n",
    "    sns.scatterplot(x = x, y = y, data = video_df)\n",
    "    plt.title(title)\n",
    "    plt.show()"
   ]
  },
  {
   "cell_type": "markdown",
   "id": "9f1ad055",
   "metadata": {},
   "source": [
    "### NA_Sales vs Global_Sales"
   ]
  },
  {
   "cell_type": "code",
   "execution_count": 31,
   "id": "7d8da6b2",
   "metadata": {},
   "outputs": [
    {
     "data": {
      "image/png": "[encoded data removed]",
      "text/plain": [
       "<Figure size 800x500 with 1 Axes>"
      ]
     },
     "metadata": {},
     "output_type": "display_data"
    }
   ],
   "source": [
    "# Calling the scatter plot function.\n",
    "func_scatterplot(x= \"NA_Sales\", y = \"Global_Sales\", \n",
    "               title= \"Plot of Sales in North America Sales vs Global Sales\", data = video_df )"
   ]
  },
  {
   "cell_type": "markdown",
   "id": "ab82c3ec",
   "metadata": {},
   "source": [
    "#### Analysis:\n",
    "- Sales is North America has a positive relationship with Global Sales. From the feature importance, North America Sales would contribute greatly to Global_Sales. Hence, Global sales would decrease if the sales in North America decreases.\n",
    "- Sales in North America would be a good feature variable to predict global sales."
   ]
  },
  {
   "cell_type": "markdown",
   "id": "f3e27dc5",
   "metadata": {},
   "source": [
    "### EU_Sales vs Global_Sales"
   ]
  },
  {
   "cell_type": "code",
   "execution_count": 32,
   "id": "531ab644",
   "metadata": {},
   "outputs": [
    {
     "data": {
      "image/png": "[encoded data removed]",
      "text/plain": [
       "<Figure size 800x500 with 1 Axes>"
      ]
     },
     "metadata": {},
     "output_type": "display_data"
    }
   ],
   "source": [
    "# Calling the scatter plot function.\n",
    "func_scatterplot(x= \"EU_Sales\", y = \"Global_Sales\", \n",
    "               title= \"Plot of Sales in Europe Sales vs Global Sales\", data = video_df )"
   ]
  },
  {
   "cell_type": "markdown",
   "id": "6ff9d8ff",
   "metadata": {},
   "source": [
    "#### Analysis:\n",
    "- Just like North America Sales, Europe Sales have a strong correlation with Global Sales. \n",
    "- Europe Sales contribution to the prediction of Global Sales would be relatively low compared to that of North America Sales.\n",
    "- Europe Sales have a strong positive relationship with Global Sales as seen from the Coefficient analysis."
   ]
  },
  {
   "cell_type": "markdown",
   "id": "9bb59b12",
   "metadata": {},
   "source": [
    "### Japan_Sales vs Global_Sales"
   ]
  },
  {
   "cell_type": "code",
   "execution_count": 33,
   "id": "fd7f7d1a",
   "metadata": {},
   "outputs": [
    {
     "data": {
      "image/png": "[encoded data removed]",
      "text/plain": [
       "<Figure size 800x500 with 1 Axes>"
      ]
     },
     "metadata": {},
     "output_type": "display_data"
    }
   ],
   "source": [
    "func_scatterplot(x= \"JP_Sales\", y = \"Global_Sales\", \n",
    "               title= \"Plot of Sales in Japan Sales vs Global Sales\", data = video_df )"
   ]
  },
  {
   "cell_type": "markdown",
   "id": "1d137d09",
   "metadata": {},
   "source": [
    "**Analysis:**\n",
    "- Japan Sales also have a strong positive relationship with Global Sales even though the heatmap is showing an average correlation. \n",
    "- However, the contribution of Japan Sales to the prediction of Global Sales would be minimal.\n",
    "- There is as a result of the correlation that exists between JP_Sales and other variables ( A multicolinearity problem)."
   ]
  },
  {
   "cell_type": "markdown",
   "id": "646b180f",
   "metadata": {},
   "source": [
    "### Other_Sales vs Global_Sales"
   ]
  },
  {
   "cell_type": "code",
   "execution_count": 34,
   "id": "9a29f52b",
   "metadata": {},
   "outputs": [
    {
     "data": {
      "image/png": "[encoded data removed]",
      "text/plain": [
       "<Figure size 800x500 with 1 Axes>"
      ]
     },
     "metadata": {},
     "output_type": "display_data"
    }
   ],
   "source": [
    "func_scatterplot(x= \"Other_Sales\", y = \"Global_Sales\", \n",
    "               title= \"Plot of Sales in Other Sales vs Global Sales\", data = video_df )"
   ]
  },
  {
   "cell_type": "markdown",
   "id": "b0a7b8b1",
   "metadata": {},
   "source": [
    "**Analysis:**\n",
    "- Like NA-Sales, EU_Sales and Japan_Sales it has a strong positive relationship with Global Sales.\n",
    "- It has a strong correlation with Global Sales even better than Japan Sales. \n",
    "- Nonetheless, the contribution of Other Sales to the prediction of Global Sales would be low."
   ]
  },
  {
   "cell_type": "markdown",
   "id": "55a0b62f",
   "metadata": {},
   "source": [
    "### User_Score vs Global_Sales"
   ]
  },
  {
   "cell_type": "code",
   "execution_count": 35,
   "id": "be16dc27",
   "metadata": {},
   "outputs": [
    {
     "data": {
      "image/png": "[encoded data removed]",
      "text/plain": [
       "<Figure size 800x500 with 1 Axes>"
      ]
     },
     "metadata": {},
     "output_type": "display_data"
    }
   ],
   "source": [
    "func_scatterplot(x= \"User_Score\", y = \"Global_Sales\", \n",
    "               title= \"Plot of User Score vs Global Sales\", data = video_df )"
   ]
  },
  {
   "cell_type": "markdown",
   "id": "2bcd9111",
   "metadata": {},
   "source": [
    "**Analysis:**\n",
    "- There is no relationship between User Score and Global Sales."
   ]
  },
  {
   "cell_type": "markdown",
   "id": "1d2a4065",
   "metadata": {},
   "source": [
    "### Critic_Score vs Global_Sales"
   ]
  },
  {
   "cell_type": "code",
   "execution_count": 36,
   "id": "d3a3e19d",
   "metadata": {},
   "outputs": [
    {
     "data": {
      "image/png": "[encoded data removed]",
      "text/plain": [
       "<Figure size 800x500 with 1 Axes>"
      ]
     },
     "metadata": {},
     "output_type": "display_data"
    }
   ],
   "source": [
    "func_scatterplot(x= \"Critic_Score\", y = \"Global_Sales\", \n",
    "               title= \"Plot of Critic_Score vs Global_Sales\", data = video_df )"
   ]
  },
  {
   "cell_type": "markdown",
   "id": "4f64e98f",
   "metadata": {},
   "source": [
    "**Analysis:**\n",
    "- There is no relationship between Critic Score and Global Sales."
   ]
  },
  {
   "cell_type": "markdown",
   "id": "6c54c01a",
   "metadata": {},
   "source": [
    "### User_Count vs Global_Sales"
   ]
  },
  {
   "cell_type": "code",
   "execution_count": 37,
   "id": "836273ed",
   "metadata": {},
   "outputs": [
    {
     "data": {
      "image/png": "[encoded data removed]",
      "text/plain": [
       "<Figure size 800x500 with 1 Axes>"
      ]
     },
     "metadata": {},
     "output_type": "display_data"
    }
   ],
   "source": [
    "func_scatterplot(x= \"User_Count\", y = \"Global_Sales\", \n",
    "               title= \"Plot of User_Count vs Global_Sales\", data = video_df )"
   ]
  },
  {
   "cell_type": "markdown",
   "id": "8ea8cac5",
   "metadata": {},
   "source": [
    "**Analysis:**\n",
    "-  There is a weak negative relationship between User Count and Global Sales."
   ]
  },
  {
   "cell_type": "markdown",
   "id": "d566c223",
   "metadata": {},
   "source": [
    "### Critic_Count vs Global_Sales"
   ]
  },
  {
   "cell_type": "code",
   "execution_count": 38,
   "id": "0b0a7718",
   "metadata": {},
   "outputs": [
    {
     "data": {
      "image/png": "[encoded data removed]",
      "text/plain": [
       "<Figure size 800x500 with 1 Axes>"
      ]
     },
     "metadata": {},
     "output_type": "display_data"
    }
   ],
   "source": [
    "func_scatterplot(x= \"Critic_Count\", y = \"Global_Sales\", \n",
    "               title= \"Plot of Critic_Count vs Global_Sales\", data = video_df )"
   ]
  },
  {
   "cell_type": "markdown",
   "id": "434f7f6b",
   "metadata": {},
   "source": [
    "**Analysis:**\n",
    "- There is a weak negative relationship between Critic Count and Global Sales.\n",
    "- It has a 0.34 correlation to Global Sales but relatively low feature importance."
   ]
  },
  {
   "cell_type": "markdown",
   "id": "097be01e",
   "metadata": {},
   "source": [
    "### Rating vs Global_Sales"
   ]
  },
  {
   "cell_type": "code",
   "execution_count": 39,
   "id": "17e4775b",
   "metadata": {},
   "outputs": [
    {
     "data": {
      "text/plain": [
       "Text(0.5, 1.0, 'Rating vs Global Sales')"
      ]
     },
     "execution_count": 39,
     "metadata": {},
     "output_type": "execute_result"
    },
    {
     "data": {
      "image/png": "[encoded data removed]",
      "text/plain": [
       "<Figure size 640x480 with 1 Axes>"
      ]
     },
     "metadata": {},
     "output_type": "display_data"
    }
   ],
   "source": [
    "# Using boxplot to show the relationship because 'Rating' is a continuous variable.  \n",
    "sns.boxplot( x = \"Rating\", y = \"Global_Sales\", data = video_df)\n",
    "plt.title(\"Rating vs Global Sales\")"
   ]
  },
  {
   "cell_type": "markdown",
   "id": "33ca01b3",
   "metadata": {},
   "source": [
    "**Analysis:**\n",
    "- The video game rated E has more Global Sales."
   ]
  },
  {
   "cell_type": "markdown",
   "id": "b54e1a4e",
   "metadata": {},
   "source": [
    "**Developing the Machine Learning model.**"
   ]
  },
  {
   "cell_type": "code",
   "execution_count": 40,
   "id": "2a1354b1",
   "metadata": {},
   "outputs": [],
   "source": [
    "# Select the features for our model\n",
    "model_features = video_df[[\"NA_Sales\",\"JP_Sales\",\"Other_Sales\",\"EU_Sales\",\"Critic_Score\", \n",
    "                                \"Critic_Count\", \"User_Count\", \"User_Score\"]]\n",
    "\n",
    "model_target = video_df[\"Global_Sales\"]"
   ]
  },
  {
   "cell_type": "code",
   "execution_count": 41,
   "id": "eaacb6d3",
   "metadata": {},
   "outputs": [
    {
     "data": {
      "text/html": [
       "<div>\n",
       "<style scoped>\n",
       "    .dataframe tbody tr th:only-of-type {\n",
       "        vertical-align: middle;\n",
       "    }\n",
       "\n",
       "    .dataframe tbody tr th {\n",
       "        vertical-align: top;\n",
       "    }\n",
       "\n",
       "    .dataframe thead th {\n",
       "        text-align: right;\n",
       "    }\n",
       "</style>\n",
       "<table border=\"1\" class=\"dataframe\">\n",
       "  <thead>\n",
       "    <tr style=\"text-align: right;\">\n",
       "      <th></th>\n",
       "      <th>NA_Sales</th>\n",
       "      <th>JP_Sales</th>\n",
       "      <th>Other_Sales</th>\n",
       "      <th>EU_Sales</th>\n",
       "      <th>Critic_Score</th>\n",
       "      <th>Critic_Count</th>\n",
       "      <th>User_Count</th>\n",
       "      <th>User_Score</th>\n",
       "    </tr>\n",
       "  </thead>\n",
       "  <tbody>\n",
       "    <tr>\n",
       "      <th>0</th>\n",
       "      <td>41.36</td>\n",
       "      <td>3.77</td>\n",
       "      <td>8.45</td>\n",
       "      <td>28.96</td>\n",
       "      <td>76.0</td>\n",
       "      <td>51</td>\n",
       "      <td>322</td>\n",
       "      <td>8.000000</td>\n",
       "    </tr>\n",
       "    <tr>\n",
       "      <th>1</th>\n",
       "      <td>29.08</td>\n",
       "      <td>6.81</td>\n",
       "      <td>0.77</td>\n",
       "      <td>3.58</td>\n",
       "      <td>79.0</td>\n",
       "      <td>62</td>\n",
       "      <td>515</td>\n",
       "      <td>8.150000</td>\n",
       "    </tr>\n",
       "    <tr>\n",
       "      <th>2</th>\n",
       "      <td>15.68</td>\n",
       "      <td>3.79</td>\n",
       "      <td>3.29</td>\n",
       "      <td>12.76</td>\n",
       "      <td>82.0</td>\n",
       "      <td>73</td>\n",
       "      <td>709</td>\n",
       "      <td>8.300000</td>\n",
       "    </tr>\n",
       "    <tr>\n",
       "      <th>3</th>\n",
       "      <td>15.61</td>\n",
       "      <td>3.28</td>\n",
       "      <td>2.95</td>\n",
       "      <td>10.93</td>\n",
       "      <td>80.0</td>\n",
       "      <td>73</td>\n",
       "      <td>192</td>\n",
       "      <td>8.000000</td>\n",
       "    </tr>\n",
       "    <tr>\n",
       "      <th>4</th>\n",
       "      <td>11.27</td>\n",
       "      <td>10.22</td>\n",
       "      <td>1.00</td>\n",
       "      <td>8.89</td>\n",
       "      <td>83.0</td>\n",
       "      <td>70</td>\n",
       "      <td>271</td>\n",
       "      <td>8.166667</td>\n",
       "    </tr>\n",
       "    <tr>\n",
       "      <th>...</th>\n",
       "      <td>...</td>\n",
       "      <td>...</td>\n",
       "      <td>...</td>\n",
       "      <td>...</td>\n",
       "      <td>...</td>\n",
       "      <td>...</td>\n",
       "      <td>...</td>\n",
       "      <td>...</td>\n",
       "    </tr>\n",
       "    <tr>\n",
       "      <th>16714</th>\n",
       "      <td>0.00</td>\n",
       "      <td>0.01</td>\n",
       "      <td>0.00</td>\n",
       "      <td>0.00</td>\n",
       "      <td>63.0</td>\n",
       "      <td>6</td>\n",
       "      <td>8</td>\n",
       "      <td>5.800000</td>\n",
       "    </tr>\n",
       "    <tr>\n",
       "      <th>16715</th>\n",
       "      <td>0.00</td>\n",
       "      <td>0.00</td>\n",
       "      <td>0.00</td>\n",
       "      <td>0.01</td>\n",
       "      <td>63.0</td>\n",
       "      <td>6</td>\n",
       "      <td>8</td>\n",
       "      <td>5.800000</td>\n",
       "    </tr>\n",
       "    <tr>\n",
       "      <th>16716</th>\n",
       "      <td>0.00</td>\n",
       "      <td>0.01</td>\n",
       "      <td>0.00</td>\n",
       "      <td>0.00</td>\n",
       "      <td>63.0</td>\n",
       "      <td>6</td>\n",
       "      <td>8</td>\n",
       "      <td>5.800000</td>\n",
       "    </tr>\n",
       "    <tr>\n",
       "      <th>16717</th>\n",
       "      <td>0.01</td>\n",
       "      <td>0.00</td>\n",
       "      <td>0.00</td>\n",
       "      <td>0.00</td>\n",
       "      <td>63.0</td>\n",
       "      <td>6</td>\n",
       "      <td>8</td>\n",
       "      <td>5.800000</td>\n",
       "    </tr>\n",
       "    <tr>\n",
       "      <th>16718</th>\n",
       "      <td>0.00</td>\n",
       "      <td>0.01</td>\n",
       "      <td>0.00</td>\n",
       "      <td>0.00</td>\n",
       "      <td>63.0</td>\n",
       "      <td>6</td>\n",
       "      <td>8</td>\n",
       "      <td>5.800000</td>\n",
       "    </tr>\n",
       "  </tbody>\n",
       "</table>\n",
       "<p>16717 rows × 8 columns</p>\n",
       "</div>"
      ],
      "text/plain": [
       "       NA_Sales  JP_Sales  Other_Sales  EU_Sales  Critic_Score  Critic_Count  \\\n",
       "0         41.36      3.77         8.45     28.96          76.0            51   \n",
       "1         29.08      6.81         0.77      3.58          79.0            62   \n",
       "2         15.68      3.79         3.29     12.76          82.0            73   \n",
       "3         15.61      3.28         2.95     10.93          80.0            73   \n",
       "4         11.27     10.22         1.00      8.89          83.0            70   \n",
       "...         ...       ...          ...       ...           ...           ...   \n",
       "16714      0.00      0.01         0.00      0.00          63.0             6   \n",
       "16715      0.00      0.00         0.00      0.01          63.0             6   \n",
       "16716      0.00      0.01         0.00      0.00          63.0             6   \n",
       "16717      0.01      0.00         0.00      0.00          63.0             6   \n",
       "16718      0.00      0.01         0.00      0.00          63.0             6   \n",
       "\n",
       "       User_Count  User_Score  \n",
       "0             322    8.000000  \n",
       "1             515    8.150000  \n",
       "2             709    8.300000  \n",
       "3             192    8.000000  \n",
       "4             271    8.166667  \n",
       "...           ...         ...  \n",
       "16714           8    5.800000  \n",
       "16715           8    5.800000  \n",
       "16716           8    5.800000  \n",
       "16717           8    5.800000  \n",
       "16718           8    5.800000  \n",
       "\n",
       "[16717 rows x 8 columns]"
      ]
     },
     "execution_count": 41,
     "metadata": {},
     "output_type": "execute_result"
    }
   ],
   "source": [
    "# Overview of features \n",
    "model_features"
   ]
  },
  {
   "cell_type": "code",
   "execution_count": 42,
   "id": "24aa77f5",
   "metadata": {},
   "outputs": [],
   "source": [
    "scale = StandardScaler() # applying regularization using \n",
    "scale.fit(model_features)\n",
    "model_features_scaled = scale.transform(model_features)"
   ]
  },
  {
   "cell_type": "code",
   "execution_count": 43,
   "id": "adde02d1",
   "metadata": {},
   "outputs": [
    {
     "data": {
      "text/html": [
       "<div>\n",
       "<style scoped>\n",
       "    .dataframe tbody tr th:only-of-type {\n",
       "        vertical-align: middle;\n",
       "    }\n",
       "\n",
       "    .dataframe tbody tr th {\n",
       "        vertical-align: top;\n",
       "    }\n",
       "\n",
       "    .dataframe thead th {\n",
       "        text-align: right;\n",
       "    }\n",
       "</style>\n",
       "<table border=\"1\" class=\"dataframe\">\n",
       "  <thead>\n",
       "    <tr style=\"text-align: right;\">\n",
       "      <th></th>\n",
       "      <th>NA_Sales</th>\n",
       "      <th>JP_Sales</th>\n",
       "      <th>Other_Sales</th>\n",
       "      <th>EU_Sales</th>\n",
       "      <th>Critic_Score</th>\n",
       "      <th>Critic_Count</th>\n",
       "      <th>User_Count</th>\n",
       "      <th>User_Score</th>\n",
       "    </tr>\n",
       "  </thead>\n",
       "  <tbody>\n",
       "    <tr>\n",
       "      <th>0</th>\n",
       "      <td>41.36</td>\n",
       "      <td>3.77</td>\n",
       "      <td>8.45</td>\n",
       "      <td>28.96</td>\n",
       "      <td>76.0</td>\n",
       "      <td>51</td>\n",
       "      <td>322</td>\n",
       "      <td>8.000000</td>\n",
       "    </tr>\n",
       "    <tr>\n",
       "      <th>1</th>\n",
       "      <td>29.08</td>\n",
       "      <td>6.81</td>\n",
       "      <td>0.77</td>\n",
       "      <td>3.58</td>\n",
       "      <td>79.0</td>\n",
       "      <td>62</td>\n",
       "      <td>515</td>\n",
       "      <td>8.150000</td>\n",
       "    </tr>\n",
       "    <tr>\n",
       "      <th>2</th>\n",
       "      <td>15.68</td>\n",
       "      <td>3.79</td>\n",
       "      <td>3.29</td>\n",
       "      <td>12.76</td>\n",
       "      <td>82.0</td>\n",
       "      <td>73</td>\n",
       "      <td>709</td>\n",
       "      <td>8.300000</td>\n",
       "    </tr>\n",
       "    <tr>\n",
       "      <th>3</th>\n",
       "      <td>15.61</td>\n",
       "      <td>3.28</td>\n",
       "      <td>2.95</td>\n",
       "      <td>10.93</td>\n",
       "      <td>80.0</td>\n",
       "      <td>73</td>\n",
       "      <td>192</td>\n",
       "      <td>8.000000</td>\n",
       "    </tr>\n",
       "    <tr>\n",
       "      <th>4</th>\n",
       "      <td>11.27</td>\n",
       "      <td>10.22</td>\n",
       "      <td>1.00</td>\n",
       "      <td>8.89</td>\n",
       "      <td>83.0</td>\n",
       "      <td>70</td>\n",
       "      <td>271</td>\n",
       "      <td>8.166667</td>\n",
       "    </tr>\n",
       "    <tr>\n",
       "      <th>...</th>\n",
       "      <td>...</td>\n",
       "      <td>...</td>\n",
       "      <td>...</td>\n",
       "      <td>...</td>\n",
       "      <td>...</td>\n",
       "      <td>...</td>\n",
       "      <td>...</td>\n",
       "      <td>...</td>\n",
       "    </tr>\n",
       "    <tr>\n",
       "      <th>16714</th>\n",
       "      <td>0.00</td>\n",
       "      <td>0.01</td>\n",
       "      <td>0.00</td>\n",
       "      <td>0.00</td>\n",
       "      <td>63.0</td>\n",
       "      <td>6</td>\n",
       "      <td>8</td>\n",
       "      <td>5.800000</td>\n",
       "    </tr>\n",
       "    <tr>\n",
       "      <th>16715</th>\n",
       "      <td>0.00</td>\n",
       "      <td>0.00</td>\n",
       "      <td>0.00</td>\n",
       "      <td>0.01</td>\n",
       "      <td>63.0</td>\n",
       "      <td>6</td>\n",
       "      <td>8</td>\n",
       "      <td>5.800000</td>\n",
       "    </tr>\n",
       "    <tr>\n",
       "      <th>16716</th>\n",
       "      <td>0.00</td>\n",
       "      <td>0.01</td>\n",
       "      <td>0.00</td>\n",
       "      <td>0.00</td>\n",
       "      <td>63.0</td>\n",
       "      <td>6</td>\n",
       "      <td>8</td>\n",
       "      <td>5.800000</td>\n",
       "    </tr>\n",
       "    <tr>\n",
       "      <th>16717</th>\n",
       "      <td>0.01</td>\n",
       "      <td>0.00</td>\n",
       "      <td>0.00</td>\n",
       "      <td>0.00</td>\n",
       "      <td>63.0</td>\n",
       "      <td>6</td>\n",
       "      <td>8</td>\n",
       "      <td>5.800000</td>\n",
       "    </tr>\n",
       "    <tr>\n",
       "      <th>16718</th>\n",
       "      <td>0.00</td>\n",
       "      <td>0.01</td>\n",
       "      <td>0.00</td>\n",
       "      <td>0.00</td>\n",
       "      <td>63.0</td>\n",
       "      <td>6</td>\n",
       "      <td>8</td>\n",
       "      <td>5.800000</td>\n",
       "    </tr>\n",
       "  </tbody>\n",
       "</table>\n",
       "<p>16717 rows × 8 columns</p>\n",
       "</div>"
      ],
      "text/plain": [
       "       NA_Sales  JP_Sales  Other_Sales  EU_Sales  Critic_Score  Critic_Count  \\\n",
       "0         41.36      3.77         8.45     28.96          76.0            51   \n",
       "1         29.08      6.81         0.77      3.58          79.0            62   \n",
       "2         15.68      3.79         3.29     12.76          82.0            73   \n",
       "3         15.61      3.28         2.95     10.93          80.0            73   \n",
       "4         11.27     10.22         1.00      8.89          83.0            70   \n",
       "...         ...       ...          ...       ...           ...           ...   \n",
       "16714      0.00      0.01         0.00      0.00          63.0             6   \n",
       "16715      0.00      0.00         0.00      0.01          63.0             6   \n",
       "16716      0.00      0.01         0.00      0.00          63.0             6   \n",
       "16717      0.01      0.00         0.00      0.00          63.0             6   \n",
       "16718      0.00      0.01         0.00      0.00          63.0             6   \n",
       "\n",
       "       User_Count  User_Score  \n",
       "0             322    8.000000  \n",
       "1             515    8.150000  \n",
       "2             709    8.300000  \n",
       "3             192    8.000000  \n",
       "4             271    8.166667  \n",
       "...           ...         ...  \n",
       "16714           8    5.800000  \n",
       "16715           8    5.800000  \n",
       "16716           8    5.800000  \n",
       "16717           8    5.800000  \n",
       "16718           8    5.800000  \n",
       "\n",
       "[16717 rows x 8 columns]"
      ]
     },
     "execution_count": 43,
     "metadata": {},
     "output_type": "execute_result"
    }
   ],
   "source": [
    "model_features"
   ]
  },
  {
   "cell_type": "code",
   "execution_count": 44,
   "id": "bcd03ee9",
   "metadata": {},
   "outputs": [
    {
     "data": {
      "text/html": [
       "<div>\n",
       "<style scoped>\n",
       "    .dataframe tbody tr th:only-of-type {\n",
       "        vertical-align: middle;\n",
       "    }\n",
       "\n",
       "    .dataframe tbody tr th {\n",
       "        vertical-align: top;\n",
       "    }\n",
       "\n",
       "    .dataframe thead th {\n",
       "        text-align: right;\n",
       "    }\n",
       "</style>\n",
       "<table border=\"1\" class=\"dataframe\">\n",
       "  <thead>\n",
       "    <tr style=\"text-align: right;\">\n",
       "      <th></th>\n",
       "      <th>NA_Sales</th>\n",
       "      <th>JP_Sales</th>\n",
       "      <th>Other_Sales</th>\n",
       "      <th>EU_Sales</th>\n",
       "      <th>Critic_Score</th>\n",
       "      <th>Critic_Count</th>\n",
       "      <th>User_Count</th>\n",
       "      <th>User_Score</th>\n",
       "    </tr>\n",
       "  </thead>\n",
       "  <tbody>\n",
       "    <tr>\n",
       "      <th>0</th>\n",
       "      <td>50.521473</td>\n",
       "      <td>11.956196</td>\n",
       "      <td>45.002649</td>\n",
       "      <td>57.253447</td>\n",
       "      <td>0.639930</td>\n",
       "      <td>1.606546</td>\n",
       "      <td>0.397613</td>\n",
       "      <td>0.692882</td>\n",
       "    </tr>\n",
       "    <tr>\n",
       "      <th>1</th>\n",
       "      <td>35.425297</td>\n",
       "      <td>21.799911</td>\n",
       "      <td>3.870431</td>\n",
       "      <td>6.825093</td>\n",
       "      <td>0.877413</td>\n",
       "      <td>2.270937</td>\n",
       "      <td>0.814492</td>\n",
       "      <td>0.803590</td>\n",
       "    </tr>\n",
       "    <tr>\n",
       "      <th>2</th>\n",
       "      <td>18.952271</td>\n",
       "      <td>12.020957</td>\n",
       "      <td>17.366940</td>\n",
       "      <td>25.065136</td>\n",
       "      <td>1.114895</td>\n",
       "      <td>2.935328</td>\n",
       "      <td>1.233532</td>\n",
       "      <td>0.914297</td>\n",
       "    </tr>\n",
       "    <tr>\n",
       "      <th>3</th>\n",
       "      <td>18.866218</td>\n",
       "      <td>10.369545</td>\n",
       "      <td>15.545982</td>\n",
       "      <td>21.429049</td>\n",
       "      <td>0.956573</td>\n",
       "      <td>2.935328</td>\n",
       "      <td>0.116813</td>\n",
       "      <td>0.692882</td>\n",
       "    </tr>\n",
       "    <tr>\n",
       "      <th>4</th>\n",
       "      <td>13.530925</td>\n",
       "      <td>32.841709</td>\n",
       "      <td>5.102255</td>\n",
       "      <td>17.375706</td>\n",
       "      <td>1.194056</td>\n",
       "      <td>2.754130</td>\n",
       "      <td>0.287453</td>\n",
       "      <td>0.815891</td>\n",
       "    </tr>\n",
       "    <tr>\n",
       "      <th>...</th>\n",
       "      <td>...</td>\n",
       "      <td>...</td>\n",
       "      <td>...</td>\n",
       "      <td>...</td>\n",
       "      <td>...</td>\n",
       "      <td>...</td>\n",
       "      <td>...</td>\n",
       "      <td>...</td>\n",
       "    </tr>\n",
       "    <tr>\n",
       "      <th>16712</th>\n",
       "      <td>-0.323628</td>\n",
       "      <td>-0.218924</td>\n",
       "      <td>-0.253502</td>\n",
       "      <td>-0.288126</td>\n",
       "      <td>-0.389160</td>\n",
       "      <td>-1.111418</td>\n",
       "      <td>-0.280627</td>\n",
       "      <td>-0.930827</td>\n",
       "    </tr>\n",
       "    <tr>\n",
       "      <th>16713</th>\n",
       "      <td>-0.323628</td>\n",
       "      <td>-0.251305</td>\n",
       "      <td>-0.253502</td>\n",
       "      <td>-0.268257</td>\n",
       "      <td>-0.389160</td>\n",
       "      <td>-1.111418</td>\n",
       "      <td>-0.280627</td>\n",
       "      <td>-0.930827</td>\n",
       "    </tr>\n",
       "    <tr>\n",
       "      <th>16714</th>\n",
       "      <td>-0.323628</td>\n",
       "      <td>-0.218924</td>\n",
       "      <td>-0.253502</td>\n",
       "      <td>-0.288126</td>\n",
       "      <td>-0.389160</td>\n",
       "      <td>-1.111418</td>\n",
       "      <td>-0.280627</td>\n",
       "      <td>-0.930827</td>\n",
       "    </tr>\n",
       "    <tr>\n",
       "      <th>16715</th>\n",
       "      <td>-0.311334</td>\n",
       "      <td>-0.251305</td>\n",
       "      <td>-0.253502</td>\n",
       "      <td>-0.288126</td>\n",
       "      <td>-0.389160</td>\n",
       "      <td>-1.111418</td>\n",
       "      <td>-0.280627</td>\n",
       "      <td>-0.930827</td>\n",
       "    </tr>\n",
       "    <tr>\n",
       "      <th>16716</th>\n",
       "      <td>-0.323628</td>\n",
       "      <td>-0.218924</td>\n",
       "      <td>-0.253502</td>\n",
       "      <td>-0.288126</td>\n",
       "      <td>-0.389160</td>\n",
       "      <td>-1.111418</td>\n",
       "      <td>-0.280627</td>\n",
       "      <td>-0.930827</td>\n",
       "    </tr>\n",
       "  </tbody>\n",
       "</table>\n",
       "<p>16717 rows × 8 columns</p>\n",
       "</div>"
      ],
      "text/plain": [
       "        NA_Sales   JP_Sales  Other_Sales   EU_Sales  Critic_Score  \\\n",
       "0      50.521473  11.956196    45.002649  57.253447      0.639930   \n",
       "1      35.425297  21.799911     3.870431   6.825093      0.877413   \n",
       "2      18.952271  12.020957    17.366940  25.065136      1.114895   \n",
       "3      18.866218  10.369545    15.545982  21.429049      0.956573   \n",
       "4      13.530925  32.841709     5.102255  17.375706      1.194056   \n",
       "...          ...        ...          ...        ...           ...   \n",
       "16712  -0.323628  -0.218924    -0.253502  -0.288126     -0.389160   \n",
       "16713  -0.323628  -0.251305    -0.253502  -0.268257     -0.389160   \n",
       "16714  -0.323628  -0.218924    -0.253502  -0.288126     -0.389160   \n",
       "16715  -0.311334  -0.251305    -0.253502  -0.288126     -0.389160   \n",
       "16716  -0.323628  -0.218924    -0.253502  -0.288126     -0.389160   \n",
       "\n",
       "       Critic_Count  User_Count  User_Score  \n",
       "0          1.606546    0.397613    0.692882  \n",
       "1          2.270937    0.814492    0.803590  \n",
       "2          2.935328    1.233532    0.914297  \n",
       "3          2.935328    0.116813    0.692882  \n",
       "4          2.754130    0.287453    0.815891  \n",
       "...             ...         ...         ...  \n",
       "16712     -1.111418   -0.280627   -0.930827  \n",
       "16713     -1.111418   -0.280627   -0.930827  \n",
       "16714     -1.111418   -0.280627   -0.930827  \n",
       "16715     -1.111418   -0.280627   -0.930827  \n",
       "16716     -1.111418   -0.280627   -0.930827  \n",
       "\n",
       "[16717 rows x 8 columns]"
      ]
     },
     "execution_count": 44,
     "metadata": {},
     "output_type": "execute_result"
    }
   ],
   "source": [
    "# Converting the resulting numpy arrays to pandas dataframe.\n",
    "model_features_scaled = pd.DataFrame(model_features_scaled, columns = model_features.columns)\n",
    "model_features_scaled"
   ]
  },
  {
   "cell_type": "code",
   "execution_count": 45,
   "id": "19431d7d",
   "metadata": {},
   "outputs": [],
   "source": [
    "# Reshaping all columns to rows and columns.\n",
    "\n",
    "X_scaled_for_JP = model_features_scaled['JP_Sales'].to_numpy().reshape(-1, 1)\n",
    "X_scaled_for_NA = model_features_scaled['NA_Sales'].to_numpy().reshape(-1, 1)\n",
    "X_scaled_for_Other = model_features_scaled['Other_Sales'].to_numpy().reshape(-1, 1)\n",
    "X_scaled_for_EU = model_features_scaled['EU_Sales'].to_numpy().reshape(-1, 1)"
   ]
  },
  {
   "cell_type": "markdown",
   "id": "9bce9a1b",
   "metadata": {},
   "source": [
    "### Simple Linear Regression"
   ]
  },
  {
   "cell_type": "code",
   "execution_count": 46,
   "id": "17d7e2c3",
   "metadata": {},
   "outputs": [],
   "source": [
    "# Define the regressor.\n",
    "Lreg = LinearRegression()\n",
    "# Define the cross validation strategy of 5 folds.\n",
    "cv = KFold(n_splits=5, shuffle=True, random_state=42)"
   ]
  },
  {
   "cell_type": "code",
   "execution_count": 47,
   "id": "ca98712b",
   "metadata": {},
   "outputs": [],
   "source": [
    "#Performing Cross validation\n",
    "\n",
    "def model_eval(X_scaled,model_target,X_scaled_name,linear):\n",
    "    # Calculating the  mean square error\n",
    "    if (linear):\n",
    "        X_scaled = model_features_scaled[X_scaled_name].to_numpy().reshape(-1, 1)\n",
    "    else:\n",
    "        X_scaled = model_features_scaled[X_scaled_name.split(\",\")]\n",
    "    mse_scores= -cross_val_score(Lreg, X_scaled, model_target, scoring='neg_mean_squared_error', cv=cv)\n",
    "    # Calculating the mean absolute error\n",
    "    mae_scores= -cross_val_score(Lreg, X_scaled, model_target, scoring='neg_mean_absolute_error', cv=cv)\n",
    "    # Calculating the Coefficient of determination\n",
    "    cod_scores = cross_val_score(Lreg, X_scaled, model_target, scoring='r2', cv=cv)\n",
    "    print(f\"Mean Absolute Error score for {X_scaled_name}: {mae_scores.mean():.3f}\")\n",
    "    print(f\"Mean Square Error score for {X_scaled_name}: {mse_scores.mean():.3f}\")\n",
    "    print(f\"Coefficient of determination {X_scaled_name}: {cod_scores.mean():.3f}\")\n",
    "    print((\"-\")*50)\n",
    "    return\n"
   ]
  },
  {
   "cell_type": "code",
   "execution_count": 48,
   "id": "d9966387",
   "metadata": {},
   "outputs": [
    {
     "name": "stdout",
     "output_type": "stream",
     "text": [
      "Mean Absolute Error score for NA_Sales: 0.199\n",
      "Mean Square Error score for NA_Sales: 0.302\n",
      "Coefficient of determination NA_Sales: 0.865\n",
      "--------------------------------------------------\n",
      "Mean Absolute Error score for JP_Sales: 0.500\n",
      "Mean Square Error score for JP_Sales: 1.509\n",
      "Coefficient of determination JP_Sales: 0.377\n",
      "--------------------------------------------------\n",
      "Mean Absolute Error score for Other_Sales: 0.322\n",
      "Mean Square Error score for Other_Sales: 1.198\n",
      "Coefficient of determination Other_Sales: 0.426\n",
      "--------------------------------------------------\n",
      "Mean Absolute Error score for EU_Sales: 0.245\n",
      "Mean Square Error score for EU_Sales: 0.451\n",
      "Coefficient of determination EU_Sales: 0.795\n",
      "--------------------------------------------------\n"
     ]
    }
   ],
   "source": [
    "model_eval(X_scaled_for_NA, model_target,\"NA_Sales\",True)\n",
    "model_eval(X_scaled_for_JP, model_target,\"JP_Sales\",True)\n",
    "model_eval(X_scaled_for_Other, model_target,\"Other_Sales\",True)\n",
    "model_eval(X_scaled_for_EU, model_target,\"EU_Sales\",True)"
   ]
  },
  {
   "cell_type": "markdown",
   "id": "ce9fc834",
   "metadata": {},
   "source": [
    "### Multiple Regression"
   ]
  },
  {
   "cell_type": "code",
   "execution_count": 49,
   "id": "2b587b8c",
   "metadata": {},
   "outputs": [
    {
     "name": "stdout",
     "output_type": "stream",
     "text": [
      "Mean Absolute Error score for Other_Sales,EU_Sales,JP_Sales: 0.178\n",
      "Mean Square Error score for Other_Sales,EU_Sales,JP_Sales: 0.263\n",
      "Coefficient of determination Other_Sales,EU_Sales,JP_Sales: 0.885\n",
      "--------------------------------------------------\n"
     ]
    }
   ],
   "source": [
    "model_eval(X_scaled_for_NA, model_target,\"Other_Sales,EU_Sales,JP_Sales\",False)"
   ]
  },
  {
   "cell_type": "code",
   "execution_count": 50,
   "id": "ab462520",
   "metadata": {},
   "outputs": [
    {
     "name": "stdout",
     "output_type": "stream",
     "text": [
      "Mean Absolute Error score for Other_Sales,EU_Sales,NA_Sales: 0.110\n",
      "Mean Square Error score for Other_Sales,EU_Sales,NA_Sales: 0.076\n",
      "Coefficient of determination Other_Sales,EU_Sales,NA_Sales: 0.965\n",
      "--------------------------------------------------\n"
     ]
    }
   ],
   "source": [
    "model_eval(X_scaled_for_NA, model_target,\"Other_Sales,EU_Sales,NA_Sales\",False)"
   ]
  },
  {
   "cell_type": "code",
   "execution_count": 51,
   "id": "36b9e062",
   "metadata": {},
   "outputs": [
    {
     "name": "stdout",
     "output_type": "stream",
     "text": [
      "Mean Absolute Error score for JP_Sales,EU_Sales,NA_Sales: 0.026\n",
      "Mean Square Error score for JP_Sales,EU_Sales,NA_Sales: 0.017\n",
      "Coefficient of determination JP_Sales,EU_Sales,NA_Sales: 0.991\n",
      "--------------------------------------------------\n"
     ]
    }
   ],
   "source": [
    "model_eval(X_scaled_for_NA, model_target,\"JP_Sales,EU_Sales,NA_Sales\",False)"
   ]
  },
  {
   "cell_type": "code",
   "execution_count": 52,
   "id": "622cd264",
   "metadata": {},
   "outputs": [
    {
     "name": "stdout",
     "output_type": "stream",
     "text": [
      "Mean Absolute Error score for Other_Sales,JP_Sales,EU_Sales,NA_Sales: 0.003\n",
      "Mean Square Error score for Other_Sales,JP_Sales,EU_Sales,NA_Sales: 0.000\n",
      "Coefficient of determination Other_Sales,JP_Sales,EU_Sales,NA_Sales: 1.000\n",
      "--------------------------------------------------\n"
     ]
    }
   ],
   "source": [
    "model_eval(X_scaled_for_NA, model_target,\"Other_Sales,JP_Sales,EU_Sales,NA_Sales\",False)"
   ]
  },
  {
   "cell_type": "markdown",
   "id": "d15392e4",
   "metadata": {},
   "source": [
    "## Question 2A:\n",
    "\n",
    "- Which of the variables in the video game dataset or a combination of them best predicts “global sales” of video games and why? Provide quantitative justifications for your answers.\n",
    "\n",
    "**Answer:**\n",
    "- With the heat map, coeffiecient analysis and feature importance value of 0.94, 9.99911824e-01 and 7.86651432e-01 respectively, North America Sales has the highest correlation and contributions.\n",
    "- However, from the the heat map, coeffiecient analysis and feature importance, a combination of NA_Sales, EU_Sales, Japan_Sales and Other_Sales would best predict Global Sales.\n",
    "- From the scatter plots and heatmap diagram above, sales in North America, EU, Other Sales and Japan would best predicts Global Sales. NA Sales' correlation to Global Sales is 0.94, EU's correlation is 0.9, Other Sales' correlation is 0.61, Japan's sales correlation is 0.75 \n",
    "\n",
    "\n",
    "\n",
    "- Computing the coefficient of determination will help us determine the region's sales that would best predict global sales. The coefficient of determination was computed as 0.865 for NA Sales, 0.795 for EU sales,0.429 for other sales and 0.377 for JP sales. This means that sales in North America has the highest probability of predicting Global sales at 86%.\n",
    "\n",
    "\n",
    "- However, Global sales is best predicted by combining sales in North America, EU, Other Sales and Japan as the combination gave a coefficient of determination of 1.0\n"
   ]
  },
  {
   "cell_type": "markdown",
   "id": "66de1f42",
   "metadata": {},
   "source": [
    "## Building the model"
   ]
  },
  {
   "cell_type": "markdown",
   "id": "ce52092d",
   "metadata": {},
   "source": [
    "## Question 2B:\n",
    "\n",
    "- **Examining the effect that the number of critics and users as well as their review scores have on\n",
    "the sales of Video games in North America, EU and Japan**"
   ]
  },
  {
   "cell_type": "markdown",
   "id": "e1a096f3",
   "metadata": {},
   "source": [
    "**EU_Sales**"
   ]
  },
  {
   "cell_type": "code",
   "execution_count": 53,
   "id": "febbac3c",
   "metadata": {},
   "outputs": [],
   "source": [
    "x_feature =  model_features_scaled[['Critic_Score', 'Critic_Count', 'User_Count', 'User_Score']]\n",
    "y_target = video_df['EU_Sales']"
   ]
  },
  {
   "cell_type": "markdown",
   "id": "c31af286",
   "metadata": {},
   "source": [
    "- **We would build our model using different regressors to determine which would be a better predictor of Global Sales**"
   ]
  },
  {
   "cell_type": "markdown",
   "id": "d3d06373",
   "metadata": {},
   "source": [
    "**Linear Regression**"
   ]
  },
  {
   "cell_type": "code",
   "execution_count": 54,
   "id": "420a663b",
   "metadata": {},
   "outputs": [
    {
     "name": "stdout",
     "output_type": "stream",
     "text": [
      "Linear Regression Mean Squared Error score for EU_Sales : 0.219\n",
      "Linear Regression Mean Absolute Error score for EU_Sales : 0.168\n",
      "Linear Regression Coefficient of Determination : 0.156\n"
     ]
    }
   ],
   "source": [
    "# Random Forest Regression\n",
    "Lregeu = LinearRegression()\n",
    "\n",
    "Lregeu_mse_scores = -cross_val_score(Lregeu, x_feature, y_target, scoring='neg_mean_squared_error', cv=cv)\n",
    "Lregeu_mae_scores = -cross_val_score(Lregeu, x_feature, y_target, scoring='neg_mean_absolute_error', cv=cv)\n",
    "Lregeu_cod_scores = cross_val_score(Lregeu, x_feature, y_target, scoring='r2', cv=cv)\n",
    "\n",
    "#Printing the results.\n",
    "print(f\"Linear Regression Mean Squared Error score for EU_Sales : {Lregeu_mse_scores.mean():.3f}\")\n",
    "print(f\"Linear Regression Mean Absolute Error score for EU_Sales : {Lregeu_mae_scores.mean():.3f}\")\n",
    "print(f\"Linear Regression Coefficient of Determination : {Lregeu_cod_scores.mean():.3f}\")"
   ]
  },
  {
   "cell_type": "markdown",
   "id": "65da3350",
   "metadata": {},
   "source": [
    "**Random Forest Regressor**"
   ]
  },
  {
   "cell_type": "code",
   "execution_count": 55,
   "id": "979b3468",
   "metadata": {},
   "outputs": [
    {
     "name": "stdout",
     "output_type": "stream",
     "text": [
      "Random Forest Regressor Mean Squared Error score for EU_Sales : 0.225\n",
      "Random Forest Regressor Mean Absolute Error score for EU_Sales : 0.162\n",
      "Random Forest Regressor Coefficient of Determination : 0.133\n"
     ]
    }
   ],
   "source": [
    "# Random Forest Regression\n",
    "rf = RandomForestRegressor (n_estimators=100, random_state=42)\n",
    "\n",
    "rf_mse_scores = -cross_val_score(rf, x_feature, y_target, scoring='neg_mean_squared_error', cv=cv)\n",
    "rf_mae_scores = -cross_val_score(rf, x_feature, y_target, scoring='neg_mean_absolute_error', cv=cv)\n",
    "rf_cod_scores = cross_val_score(rf, x_feature, y_target, scoring='r2', cv=cv)\n",
    "\n",
    "#Printing the results.\n",
    "print(f\"Random Forest Regressor Mean Squared Error score for EU_Sales : {rf_mse_scores.mean():.3f}\")\n",
    "print(f\"Random Forest Regressor Mean Absolute Error score for EU_Sales : {rf_mae_scores.mean():.3f}\")\n",
    "print(f\"Random Forest Regressor Coefficient of Determination : {rf_cod_scores.mean():.3f}\")"
   ]
  },
  {
   "cell_type": "markdown",
   "id": "7ff1bf5b",
   "metadata": {},
   "source": [
    "**Lasso Regressor**"
   ]
  },
  {
   "cell_type": "code",
   "execution_count": 56,
   "id": "1a31d346",
   "metadata": {},
   "outputs": [
    {
     "name": "stdout",
     "output_type": "stream",
     "text": [
      "Lasso Regression Mean Absolute square score for EU_Sales : 0.235\n",
      "Lasso Regression Mean Absolute Error score for EU_Sales : 0.172\n",
      "Lasso Regression Regressor Coefficient of determination : 0.080\n"
     ]
    }
   ],
   "source": [
    "## Lasso Regression.\n",
    "lasso = Lasso(alpha=0.1)\n",
    "\n",
    "#fit the model \n",
    "lasso_mse_scores = -cross_val_score(lasso, x_feature, y_target, scoring ='neg_mean_squared_error', cv=cv)\n",
    "lasso_mae_scores = -cross_val_score(lasso, x_feature, y_target, scoring ='neg_mean_absolute_error', cv=cv)\n",
    "lasso_cod_scores = cross_val_score(lasso, x_feature, y_target, scoring='r2', cv=cv)\n",
    "\n",
    "#Print the results.\n",
    "print(f\"Lasso Regression Mean Absolute square score for EU_Sales : {lasso_mse_scores.mean():.3f}\")\n",
    "print(f\"Lasso Regression Mean Absolute Error score for EU_Sales : {lasso_mae_scores.mean():.3f}\")\n",
    "print(f\"Lasso Regression Regressor Coefficient of determination : {lasso_cod_scores.mean():.3f}\")"
   ]
  },
  {
   "cell_type": "markdown",
   "id": "476bddfc",
   "metadata": {},
   "source": [
    "**Gradient Boosting Regression**"
   ]
  },
  {
   "cell_type": "code",
   "execution_count": 57,
   "id": "1d97e562",
   "metadata": {},
   "outputs": [
    {
     "name": "stdout",
     "output_type": "stream",
     "text": [
      "Gradient Boosting Regression Mean Absolute square score for EU_Sales : 0.224\n",
      "Gradient Boosting Regression Mean Absolute Error score for EU_Sales : 0.151\n",
      "Gradient Boosting Regression Regressor Coefficient of determination : 0.146\n"
     ]
    }
   ],
   "source": [
    "## Gradient Boosting Regression.\n",
    "gb = GradientBoostingRegressor(n_estimators=100, random_state=42)\n",
    "\n",
    "#fit the model \n",
    "gb_mse_scores = -cross_val_score(gb, x_feature, y_target, scoring ='neg_mean_squared_error', cv=cv)\n",
    "gb_mae_scores = -cross_val_score(gb, x_feature, y_target, scoring ='neg_mean_absolute_error', cv=cv)\n",
    "gb_cod_scores = cross_val_score(gb, x_feature, y_target, scoring='r2', cv=cv)\n",
    "\n",
    "#Print the results.\n",
    "print(f\"Gradient Boosting Regression Mean Absolute square score for EU_Sales : {gb_mse_scores.mean():.3f}\")\n",
    "print(f\"Gradient Boosting Regression Mean Absolute Error score for EU_Sales : {gb_mae_scores.mean():.3f}\")\n",
    "print(f\"Gradient Boosting Regression Regressor Coefficient of determination : {gb_cod_scores.mean():.3f}\")"
   ]
  },
  {
   "cell_type": "markdown",
   "id": "565c8f6a",
   "metadata": {},
   "source": [
    "**Ridge Regressor**"
   ]
  },
  {
   "cell_type": "code",
   "execution_count": 58,
   "id": "7a41bde6",
   "metadata": {},
   "outputs": [
    {
     "name": "stdout",
     "output_type": "stream",
     "text": [
      "Ridge Regression Mean Absolute Error Score for EU_Sales : 0.168\n",
      "Ridge Regression Mean Squared Error score for EU_sales : 0.219\n",
      "Ridge Regression Coefficient of determination : 0.156\n"
     ]
    }
   ],
   "source": [
    "# Ridge Regressor.\n",
    "\n",
    "rg = Ridge()\n",
    "\n",
    "#Fitting the model.\n",
    "rg_mae_scores = -cross_val_score(rg, x_feature, y_target, scoring='neg_mean_absolute_error', cv=cv)\n",
    "rg_mse_scores = -cross_val_score(rg, x_feature, y_target, scoring='neg_mean_squared_error', cv=cv)\n",
    "rg_co_scores = cross_val_score(rg, x_feature, y_target, scoring='r2', cv=cv)\n",
    "\n",
    "#Print the results.\n",
    "\n",
    "print(f\"Ridge Regression Mean Absolute Error Score for EU_Sales : {rg_mae_scores.mean():.3f}\")\n",
    "print(f\"Ridge Regression Mean Squared Error score for EU_sales : {rg_mse_scores.mean():.3f}\")\n",
    "print(f\"Ridge Regression Coefficient of determination : {rg_co_scores.mean():.3f}\")"
   ]
  },
  {
   "cell_type": "markdown",
   "id": "85c2b453",
   "metadata": {},
   "source": [
    "**Analysis:**\n",
    "\n",
    "- Linear Regressor or Ridge Regressor would performed better than the other regressors when using sales in EU to predict Global Sales.\n",
    "\n",
    "\n",
    "\n",
    "- The number of critics and users as well as their review scores in the EU can either increase or decrease the global sales by 15.6% "
   ]
  },
  {
   "cell_type": "markdown",
   "id": "ed957e56",
   "metadata": {},
   "source": [
    "**JP_Sales**"
   ]
  },
  {
   "cell_type": "code",
   "execution_count": 59,
   "id": "8216f6cb",
   "metadata": {},
   "outputs": [],
   "source": [
    "x_feature =  model_features_scaled[['Critic_Score', 'Critic_Count', 'User_Count', 'User_Score']]\n",
    "y_target = video_df['JP_Sales']"
   ]
  },
  {
   "cell_type": "markdown",
   "id": "07101be2",
   "metadata": {},
   "source": [
    "**Linear Regression**"
   ]
  },
  {
   "cell_type": "code",
   "execution_count": 60,
   "id": "1e78aa33",
   "metadata": {},
   "outputs": [
    {
     "name": "stdout",
     "output_type": "stream",
     "text": [
      "Linear Regression Mean Squared Error score for EU_Sales : 0.090\n",
      "Linear Regression Mean Absolute Error score for EU_Sales : 0.115\n",
      "Linear Regression Coefficient of Determination : 0.055\n"
     ]
    }
   ],
   "source": [
    "# Random Forest Regression\n",
    "Lregjp = LinearRegression()\n",
    "\n",
    "Lregjp_mse_scores = -cross_val_score(Lregjp, x_feature, y_target, scoring='neg_mean_squared_error', cv=cv)\n",
    "Lregjp_mae_scores = -cross_val_score(Lregjp, x_feature, y_target, scoring='neg_mean_absolute_error', cv=cv)\n",
    "Lregjp_cod_scores = cross_val_score(Lregjp, x_feature, y_target, scoring='r2', cv=cv)\n",
    "\n",
    "#Printing the results.\n",
    "print(f\"Linear Regression Mean Squared Error score for EU_Sales : {Lregjp_mse_scores.mean():.3f}\")\n",
    "print(f\"Linear Regression Mean Absolute Error score for EU_Sales : {Lregjp_mae_scores.mean():.3f}\")\n",
    "print(f\"Linear Regression Coefficient of Determination : {Lregjp_cod_scores.mean():.3f}\")"
   ]
  },
  {
   "cell_type": "markdown",
   "id": "20752009",
   "metadata": {},
   "source": [
    "**Random Forest Regressor**"
   ]
  },
  {
   "cell_type": "code",
   "execution_count": 61,
   "id": "1bb5339a",
   "metadata": {},
   "outputs": [
    {
     "name": "stdout",
     "output_type": "stream",
     "text": [
      "Random Forest Regressor Mean Squared Error score for JP_Sales : 0.094\n",
      "Random Forest Regressor Mean Absolute Error score for JP_Sales : 0.118\n",
      "Random Forest Regressor Coefficient of Determination : 0.020\n"
     ]
    }
   ],
   "source": [
    "# Random Forest Regression\n",
    "rfjp = RandomForestRegressor (n_estimators=100, random_state=42)\n",
    "\n",
    "rfjp_mse_scores = -cross_val_score(rfjp, x_feature, y_target, scoring='neg_mean_squared_error', cv=cv)\n",
    "rfjp_mae_scores = -cross_val_score(rfjp, x_feature, y_target, scoring='neg_mean_absolute_error', cv=cv)\n",
    "rfjp_cod_scores = cross_val_score(rfjp, x_feature, y_target, scoring='r2', cv=cv)\n",
    "\n",
    "#Printing the results.\n",
    "print(f\"Random Forest Regressor Mean Squared Error score for JP_Sales : {rfjp_mse_scores.mean():.3f}\")\n",
    "print(f\"Random Forest Regressor Mean Absolute Error score for JP_Sales : {rfjp_mae_scores.mean():.3f}\")\n",
    "print(f\"Random Forest Regressor Coefficient of Determination : {rfjp_cod_scores.mean():.3f}\")"
   ]
  },
  {
   "cell_type": "markdown",
   "id": "1fd23584",
   "metadata": {},
   "source": [
    "**Lasso Regressor**"
   ]
  },
  {
   "cell_type": "code",
   "execution_count": 62,
   "id": "7ace0ff6",
   "metadata": {},
   "outputs": [
    {
     "name": "stdout",
     "output_type": "stream",
     "text": [
      "Lasso Regression Mean Absolute square score for JP_Sales : 0.095\n",
      "Lasso Regression Mean Absolute Error score for JP_Sales : 0.115\n",
      "Lasso Regression Regressor Coefficient of determination : -0.000\n"
     ]
    }
   ],
   "source": [
    "## Lasso Regression.\n",
    "lasso = Lasso(alpha=0.1)\n",
    "\n",
    "#fit the model \n",
    "lassojp_mse_scores = -cross_val_score(lasso, x_feature, y_target, scoring ='neg_mean_squared_error', cv=cv)\n",
    "lassojp_mae_scores = -cross_val_score(lasso, x_feature, y_target, scoring ='neg_mean_absolute_error', cv=cv)\n",
    "lassojp_cod_scores = cross_val_score(lasso, x_feature, y_target, scoring='r2', cv=cv)\n",
    "\n",
    "#Print the results.\n",
    "print(f\"Lasso Regression Mean Absolute square score for JP_Sales : {lassojp_mse_scores.mean():.3f}\")\n",
    "print(f\"Lasso Regression Mean Absolute Error score for JP_Sales : {lassojp_mae_scores.mean():.3f}\")\n",
    "print(f\"Lasso Regression Regressor Coefficient of determination : {lassojp_cod_scores.mean():.3f}\")"
   ]
  },
  {
   "cell_type": "markdown",
   "id": "7dab48ca",
   "metadata": {},
   "source": [
    "**Gradient Boosting Regression**"
   ]
  },
  {
   "cell_type": "code",
   "execution_count": 63,
   "id": "bce70c28",
   "metadata": {},
   "outputs": [
    {
     "name": "stdout",
     "output_type": "stream",
     "text": [
      "Gradient Boosting Regression Mean Absolute square score for JP_Sales : 0.088\n",
      "Gradient Boosting Regression Mean Absolute Error score for JP_Sales : 0.110\n",
      "Gradient Boosting Regression Regressor Coefficient of determination : 0.078\n"
     ]
    }
   ],
   "source": [
    "## Gradient Boosting Regression.\n",
    "gb = GradientBoostingRegressor(n_estimators=100, random_state=42)\n",
    "\n",
    "#fit the model \n",
    "gbjp_mse_scores = -cross_val_score(gb, x_feature, y_target, scoring ='neg_mean_squared_error', cv=cv)\n",
    "gbjp_mae_scores = -cross_val_score(gb, x_feature, y_target, scoring ='neg_mean_absolute_error', cv=cv)\n",
    "gbjp_cod_scores = cross_val_score(gb, x_feature, y_target, scoring='r2', cv=cv)\n",
    "\n",
    "#Print the results.\n",
    "print(f\"Gradient Boosting Regression Mean Absolute square score for JP_Sales : {gbjp_mse_scores.mean():.3f}\")\n",
    "print(f\"Gradient Boosting Regression Mean Absolute Error score for JP_Sales : {gbjp_mae_scores.mean():.3f}\")\n",
    "print(f\"Gradient Boosting Regression Regressor Coefficient of determination : {gbjp_cod_scores.mean():.3f}\")"
   ]
  },
  {
   "cell_type": "markdown",
   "id": "2bedbba8",
   "metadata": {},
   "source": [
    "**Ridge Regressor**"
   ]
  },
  {
   "cell_type": "code",
   "execution_count": 64,
   "id": "68f141de",
   "metadata": {},
   "outputs": [
    {
     "name": "stdout",
     "output_type": "stream",
     "text": [
      "Ridge Regression Mean Absolute Error Score for EU_Sales : 0.115\n",
      "Ridge Regression Mean Squared Error score for EU_sales : 0.090\n",
      "Ridge Regression Coefficient of determination : 0.055\n"
     ]
    }
   ],
   "source": [
    "# Ridge Regressor.\n",
    "\n",
    "rgjp = Ridge()\n",
    "\n",
    "#Fitting the model.\n",
    "rgjp_mae_scores = -cross_val_score(rgjp, x_feature, y_target, scoring='neg_mean_absolute_error', cv=cv)\n",
    "rgjp_mse_scores = -cross_val_score(rgjp, x_feature, y_target, scoring='neg_mean_squared_error', cv=cv)\n",
    "rgjp_co_scores = cross_val_score(rgjp, x_feature, y_target, scoring='r2', cv=cv)\n",
    "\n",
    "#Print the results.\n",
    "\n",
    "print(f\"Ridge Regression Mean Absolute Error Score for EU_Sales : {rgjp_mae_scores.mean():.3f}\")\n",
    "print(f\"Ridge Regression Mean Squared Error score for EU_sales : {rgjp_mse_scores.mean():.3f}\")\n",
    "print(f\"Ridge Regression Coefficient of determination : {rgjp_co_scores.mean():.3f}\")"
   ]
  },
  {
   "cell_type": "markdown",
   "id": "8bd1b3cc",
   "metadata": {},
   "source": [
    "**Analysis:**"
   ]
  },
  {
   "cell_type": "markdown",
   "id": "0a7d2285",
   "metadata": {},
   "source": [
    "- Gradient Boosting Regressor performed better than the other regressors when using sales in Japan to predict Global Sales.\n",
    "\n",
    "\n",
    "\n",
    "- The number of critics and users as well as their review scores in the Japan can either increase or decrease the global sales by 7.8% "
   ]
  },
  {
   "cell_type": "markdown",
   "id": "78fcd1f4",
   "metadata": {},
   "source": [
    "**NA_Sales**"
   ]
  },
  {
   "cell_type": "code",
   "execution_count": 65,
   "id": "3aba7810",
   "metadata": {},
   "outputs": [],
   "source": [
    "x_feature =  model_features_scaled[['Critic_Score', 'Critic_Count', 'User_Count', 'User_Score']]\n",
    "y_target = video_df['NA_Sales']"
   ]
  },
  {
   "cell_type": "markdown",
   "id": "97e05618",
   "metadata": {},
   "source": [
    "**Linear Regression**"
   ]
  },
  {
   "cell_type": "code",
   "execution_count": 66,
   "id": "d2110e06",
   "metadata": {},
   "outputs": [
    {
     "name": "stdout",
     "output_type": "stream",
     "text": [
      "Linear Regression Mean Squared Error score for EU_Sales : 0.576\n",
      "Linear Regression Mean Absolute Error score for EU_Sales : 0.282\n",
      "Linear Regression Coefficient of Determination : 0.152\n"
     ]
    }
   ],
   "source": [
    "# Random Forest Regression\n",
    "Lregna = LinearRegression()\n",
    "\n",
    "Lregna_mse_scores = -cross_val_score(Lregna, x_feature, y_target, scoring='neg_mean_squared_error', cv=cv)\n",
    "Lregna_mae_scores = -cross_val_score(Lregna, x_feature, y_target, scoring='neg_mean_absolute_error', cv=cv)\n",
    "Lregna_cod_scores = cross_val_score(Lregna, x_feature, y_target, scoring='r2', cv=cv)\n",
    "\n",
    "#Printing the results.\n",
    "print(f\"Linear Regression Mean Squared Error score for EU_Sales : {Lregna_mse_scores.mean():.3f}\")\n",
    "print(f\"Linear Regression Mean Absolute Error score for EU_Sales : {Lregna_mae_scores.mean():.3f}\")\n",
    "print(f\"Linear Regression Coefficient of Determination : {Lregna_cod_scores.mean():.3f}\")"
   ]
  },
  {
   "cell_type": "markdown",
   "id": "cbb2ca90",
   "metadata": {},
   "source": [
    "**Random Forest Regression**"
   ]
  },
  {
   "cell_type": "code",
   "execution_count": 67,
   "id": "f7e0b114",
   "metadata": {},
   "outputs": [
    {
     "name": "stdout",
     "output_type": "stream",
     "text": [
      "Random Forest Regressor Mean Squared Error score for NA_Sales : 0.582\n",
      "Random Forest Regressor Mean Absolute Error score for NA_Sales : 0.262\n",
      "Random Forest Regressor Coefficient of Determination : 0.141\n"
     ]
    }
   ],
   "source": [
    "# Random Forest Regression\n",
    "rfna = RandomForestRegressor (n_estimators=100, random_state=42)\n",
    "\n",
    "rfna_mse_scores = -cross_val_score(rfna, x_feature, y_target, scoring='neg_mean_squared_error', cv=cv)\n",
    "rfna_mae_scores = -cross_val_score(rfna, x_feature, y_target, scoring='neg_mean_absolute_error', cv=cv)\n",
    "rfna_cod_scores = cross_val_score(rfna, x_feature, y_target, scoring='r2', cv=cv)\n",
    "\n",
    "#Printing the results.\n",
    "print(f\"Random Forest Regressor Mean Squared Error score for NA_Sales : {rfna_mse_scores.mean():.3f}\")\n",
    "print(f\"Random Forest Regressor Mean Absolute Error score for NA_Sales : {rfna_mae_scores.mean():.3f}\")\n",
    "print(f\"Random Forest Regressor Coefficient of Determination : {rfna_cod_scores.mean():.3f}\")"
   ]
  },
  {
   "cell_type": "markdown",
   "id": "48250c54",
   "metadata": {},
   "source": [
    "**Lasso Regressor**"
   ]
  },
  {
   "cell_type": "code",
   "execution_count": 68,
   "id": "12cf0325",
   "metadata": {},
   "outputs": [
    {
     "name": "stdout",
     "output_type": "stream",
     "text": [
      "Lasso Regression Mean Absolute square score for NA_Sales : 0.593\n",
      "Lasso Regression Mean Absolute Error score for NA_Sales : 0.270\n",
      "Lasso Regression Regressor Coefficient of determination : 0.121\n"
     ]
    }
   ],
   "source": [
    "## Lasso Regression.\n",
    "lasso = Lasso(alpha=0.1)\n",
    "\n",
    "#fit the model \n",
    "lassona_mse_scores = -cross_val_score(lasso, x_feature, y_target, scoring ='neg_mean_squared_error', cv=cv)\n",
    "lassona_mae_scores = -cross_val_score(lasso, x_feature, y_target, scoring ='neg_mean_absolute_error', cv=cv)\n",
    "lassona_cod_scores = cross_val_score(lasso, x_feature, y_target, scoring='r2', cv=cv)\n",
    "\n",
    "#Print the results.\n",
    "print(f\"Lasso Regression Mean Absolute square score for NA_Sales : {lassona_mse_scores.mean():.3f}\")\n",
    "print(f\"Lasso Regression Mean Absolute Error score for NA_Sales : {lassona_mae_scores.mean():.3f}\")\n",
    "print(f\"Lasso Regression Regressor Coefficient of determination : {lassona_cod_scores.mean():.3f}\")"
   ]
  },
  {
   "cell_type": "markdown",
   "id": "712e75f0",
   "metadata": {},
   "source": [
    "**Gradient Boosting Regression**"
   ]
  },
  {
   "cell_type": "code",
   "execution_count": 69,
   "id": "47e758ee",
   "metadata": {},
   "outputs": [
    {
     "name": "stdout",
     "output_type": "stream",
     "text": [
      "Gradient Boosting Regression Mean Absolute square score for NA_Sales : 0.557\n",
      "Gradient Boosting Regression Mean Absolute Error score for NA_Sales : 0.246\n",
      "Gradient Boosting Regression Regressor Coefficient of determination : 0.186\n"
     ]
    }
   ],
   "source": [
    "## Gradient Boosting Regression.\n",
    "gb = GradientBoostingRegressor(n_estimators=100, random_state=42)\n",
    "\n",
    "#fit the model \n",
    "gbna_mse_scores = -cross_val_score(gb, x_feature, y_target, scoring ='neg_mean_squared_error', cv=cv)\n",
    "gbna_mae_scores = -cross_val_score(gb, x_feature, y_target, scoring ='neg_mean_absolute_error', cv=cv)\n",
    "gbna_cod_scores = cross_val_score(gb, x_feature, y_target, scoring='r2', cv=cv)\n",
    "\n",
    "#Print the results.\n",
    "print(f\"Gradient Boosting Regression Mean Absolute square score for NA_Sales : {gbna_mse_scores.mean():.3f}\")\n",
    "print(f\"Gradient Boosting Regression Mean Absolute Error score for NA_Sales : {gbna_mae_scores.mean():.3f}\")\n",
    "print(f\"Gradient Boosting Regression Regressor Coefficient of determination : {gbna_cod_scores.mean():.3f}\")"
   ]
  },
  {
   "cell_type": "markdown",
   "id": "0781f59b",
   "metadata": {},
   "source": [
    "**Ridge Regression**|"
   ]
  },
  {
   "cell_type": "code",
   "execution_count": 70,
   "id": "c706a207",
   "metadata": {},
   "outputs": [
    {
     "name": "stdout",
     "output_type": "stream",
     "text": [
      "Ridge Regression Mean Absolute Error Score for NA_Sales : 0.282\n",
      "Ridge Regression Mean Squared Error score for NA_Sales : 0.576\n",
      "Ridge Regression Coefficient of determination : 0.152\n"
     ]
    }
   ],
   "source": [
    "# Ridge Regressor.\n",
    "\n",
    "rgna = Ridge()\n",
    "\n",
    "#Fitting the model.\n",
    "rgna_mae_scores = -cross_val_score(rgna, x_feature, y_target, scoring='neg_mean_absolute_error', cv=cv)\n",
    "rgna_mse_scores = -cross_val_score(rgna, x_feature, y_target, scoring='neg_mean_squared_error', cv=cv)\n",
    "rgna_co_scores = cross_val_score(rgna, x_feature, y_target, scoring='r2', cv=cv)\n",
    "\n",
    "#Print the results.\n",
    "\n",
    "print(f\"Ridge Regression Mean Absolute Error Score for NA_Sales : {rgna_mae_scores.mean():.3f}\")\n",
    "print(f\"Ridge Regression Mean Squared Error score for NA_Sales : {rgna_mse_scores.mean():.3f}\")\n",
    "print(f\"Ridge Regression Coefficient of determination : {rgna_co_scores.mean():.3f}\")"
   ]
  },
  {
   "cell_type": "markdown",
   "id": "bb131e4d",
   "metadata": {},
   "source": [
    "**Analysis:**\n",
    "\n",
    "- Gradient Boosting performed better than the other regressors when using sales in North America to predict Global Sales\n",
    "- The number of critics and users as well as their review scores in the North America can either increase or decrease the global sales by 18.6%"
   ]
  },
  {
   "cell_type": "markdown",
   "id": "12062354",
   "metadata": {},
   "source": [
    "## Question 2C:\n",
    "- What propelled the choice of your regressor for this task? Aptly discuss with quantitative reasons!"
   ]
  },
  {
   "cell_type": "markdown",
   "id": "1e52d7e4",
   "metadata": {},
   "source": [
    "**Answer:**\n",
    "\n",
    "- EU Sales\n",
    "    - Linear regressor and ridge regressor had the highest coefficient of determination of 0.156 compared to random forest with 0.133, lasso with 0.080 and gradient boosting with 0.146.\n",
    "\n",
    "- JP Sales\n",
    "    - Gradient boosting regressor had the highest coefficient of determination with 0.078 compared to linear with 0.055, lasso with -0.000, random forest with 0.020 and ridge with 0.055.\n",
    "- NA Sales\n",
    "    - Gradient boosting regressor had the highest coefficient of determination with 0.186 compared to linear with 0.152, random forest with 0.141, lasso with 0.121 and ridge at 0.152."
   ]
  },
  {
   "cell_type": "markdown",
   "id": "93088f27",
   "metadata": {},
   "source": [
    "## Question 2D:\n",
    "- Use all the relevant categorical variables in the Video Game Dataset as the target variable at each instance and determine which of the variables performed best in classifying the dataset. Explain your findings."
   ]
  },
  {
   "cell_type": "code",
   "execution_count": 71,
   "id": "f8f45086",
   "metadata": {},
   "outputs": [
    {
     "data": {
      "text/html": [
       "<div>\n",
       "<style scoped>\n",
       "    .dataframe tbody tr th:only-of-type {\n",
       "        vertical-align: middle;\n",
       "    }\n",
       "\n",
       "    .dataframe tbody tr th {\n",
       "        vertical-align: top;\n",
       "    }\n",
       "\n",
       "    .dataframe thead th {\n",
       "        text-align: right;\n",
       "    }\n",
       "</style>\n",
       "<table border=\"1\" class=\"dataframe\">\n",
       "  <thead>\n",
       "    <tr style=\"text-align: right;\">\n",
       "      <th></th>\n",
       "      <th>Name</th>\n",
       "      <th>Platform</th>\n",
       "      <th>Genre</th>\n",
       "      <th>Publisher</th>\n",
       "      <th>Developer</th>\n",
       "      <th>Rating</th>\n",
       "      <th>All_platforms</th>\n",
       "    </tr>\n",
       "  </thead>\n",
       "  <tbody>\n",
       "    <tr>\n",
       "      <th>0</th>\n",
       "      <td>Wii Sports</td>\n",
       "      <td>Wii</td>\n",
       "      <td>Sports</td>\n",
       "      <td>Nintendo</td>\n",
       "      <td>Nintendo</td>\n",
       "      <td>E</td>\n",
       "      <td>Wii</td>\n",
       "    </tr>\n",
       "    <tr>\n",
       "      <th>1</th>\n",
       "      <td>Super Mario Bros.</td>\n",
       "      <td>NES</td>\n",
       "      <td>Platform</td>\n",
       "      <td>Nintendo</td>\n",
       "      <td>Sonic Team</td>\n",
       "      <td>Unknown</td>\n",
       "      <td>Other Platforms</td>\n",
       "    </tr>\n",
       "    <tr>\n",
       "      <th>2</th>\n",
       "      <td>Mario Kart Wii</td>\n",
       "      <td>Wii</td>\n",
       "      <td>Racing</td>\n",
       "      <td>Nintendo</td>\n",
       "      <td>Nintendo</td>\n",
       "      <td>E</td>\n",
       "      <td>Wii</td>\n",
       "    </tr>\n",
       "    <tr>\n",
       "      <th>3</th>\n",
       "      <td>Wii Sports Resort</td>\n",
       "      <td>Wii</td>\n",
       "      <td>Sports</td>\n",
       "      <td>Nintendo</td>\n",
       "      <td>Nintendo</td>\n",
       "      <td>E</td>\n",
       "      <td>Wii</td>\n",
       "    </tr>\n",
       "    <tr>\n",
       "      <th>4</th>\n",
       "      <td>Pokemon Red/Pokemon Blue</td>\n",
       "      <td>GB</td>\n",
       "      <td>Role-Playing</td>\n",
       "      <td>Nintendo</td>\n",
       "      <td>Square Enix</td>\n",
       "      <td>Unknown</td>\n",
       "      <td>Other Platforms</td>\n",
       "    </tr>\n",
       "    <tr>\n",
       "      <th>5</th>\n",
       "      <td>Tetris</td>\n",
       "      <td>GB</td>\n",
       "      <td>Puzzle</td>\n",
       "      <td>Nintendo</td>\n",
       "      <td>PopCap</td>\n",
       "      <td>Unknown</td>\n",
       "      <td>Other Platforms</td>\n",
       "    </tr>\n",
       "    <tr>\n",
       "      <th>6</th>\n",
       "      <td>New Super Mario Bros.</td>\n",
       "      <td>DS</td>\n",
       "      <td>Platform</td>\n",
       "      <td>Nintendo</td>\n",
       "      <td>Nintendo</td>\n",
       "      <td>E</td>\n",
       "      <td>DS</td>\n",
       "    </tr>\n",
       "    <tr>\n",
       "      <th>7</th>\n",
       "      <td>Wii Play</td>\n",
       "      <td>Wii</td>\n",
       "      <td>Misc</td>\n",
       "      <td>Nintendo</td>\n",
       "      <td>Nintendo</td>\n",
       "      <td>E</td>\n",
       "      <td>Wii</td>\n",
       "    </tr>\n",
       "    <tr>\n",
       "      <th>8</th>\n",
       "      <td>New Super Mario Bros. Wii</td>\n",
       "      <td>Wii</td>\n",
       "      <td>Platform</td>\n",
       "      <td>Nintendo</td>\n",
       "      <td>Nintendo</td>\n",
       "      <td>E</td>\n",
       "      <td>Wii</td>\n",
       "    </tr>\n",
       "    <tr>\n",
       "      <th>9</th>\n",
       "      <td>Duck Hunt</td>\n",
       "      <td>NES</td>\n",
       "      <td>Shooter</td>\n",
       "      <td>Nintendo</td>\n",
       "      <td>Rebellion</td>\n",
       "      <td>Unknown</td>\n",
       "      <td>Other Platforms</td>\n",
       "    </tr>\n",
       "  </tbody>\n",
       "</table>\n",
       "</div>"
      ],
      "text/plain": [
       "                        Name Platform         Genre Publisher    Developer  \\\n",
       "0                 Wii Sports      Wii        Sports  Nintendo     Nintendo   \n",
       "1          Super Mario Bros.      NES      Platform  Nintendo   Sonic Team   \n",
       "2             Mario Kart Wii      Wii        Racing  Nintendo     Nintendo   \n",
       "3          Wii Sports Resort      Wii        Sports  Nintendo     Nintendo   \n",
       "4   Pokemon Red/Pokemon Blue       GB  Role-Playing  Nintendo  Square Enix   \n",
       "5                     Tetris       GB        Puzzle  Nintendo       PopCap   \n",
       "6      New Super Mario Bros.       DS      Platform  Nintendo     Nintendo   \n",
       "7                   Wii Play      Wii          Misc  Nintendo     Nintendo   \n",
       "8  New Super Mario Bros. Wii      Wii      Platform  Nintendo     Nintendo   \n",
       "9                  Duck Hunt      NES       Shooter  Nintendo    Rebellion   \n",
       "\n",
       "    Rating    All_platforms  \n",
       "0        E              Wii  \n",
       "1  Unknown  Other Platforms  \n",
       "2        E              Wii  \n",
       "3        E              Wii  \n",
       "4  Unknown  Other Platforms  \n",
       "5  Unknown  Other Platforms  \n",
       "6        E               DS  \n",
       "7        E              Wii  \n",
       "8        E              Wii  \n",
       "9  Unknown  Other Platforms  "
      ]
     },
     "execution_count": 71,
     "metadata": {},
     "output_type": "execute_result"
    }
   ],
   "source": [
    "# Overview of categorical variables\n",
    "video_df_cv.head(10)"
   ]
  },
  {
   "cell_type": "code",
   "execution_count": 72,
   "id": "bb96012b",
   "metadata": {},
   "outputs": [
    {
     "data": {
      "text/plain": [
       "Unknown    6767\n",
       "E          3991\n",
       "T          2961\n",
       "M          1563\n",
       "E10+       1420\n",
       "EC            8\n",
       "K-A           3\n",
       "RP            3\n",
       "AO            1\n",
       "Name: Rating, dtype: int64"
      ]
     },
     "execution_count": 72,
     "metadata": {},
     "output_type": "execute_result"
    }
   ],
   "source": [
    "video_df['Rating'].value_counts()"
   ]
  },
  {
   "cell_type": "code",
   "execution_count": 73,
   "id": "89fae4a7",
   "metadata": {},
   "outputs": [],
   "source": [
    "#importing the needed libraries to convert categorical variables to numeric variables\n",
    "from sklearn.preprocessing import OneHotEncoder\n",
    "from sklearn.preprocessing import LabelEncoder"
   ]
  },
  {
   "cell_type": "code",
   "execution_count": 74,
   "id": "a84dfa2f",
   "metadata": {},
   "outputs": [],
   "source": [
    "#importing library for visualisation\n",
    "from sklearn.metrics import classification_report\n",
    "from sklearn.metrics import confusion_matrix"
   ]
  },
  {
   "cell_type": "code",
   "execution_count": 75,
   "id": "1e906f09",
   "metadata": {},
   "outputs": [],
   "source": [
    "video_df['Rating'] = video_df['Rating'].replace('AO','RP') "
   ]
  },
  {
   "cell_type": "code",
   "execution_count": 76,
   "id": "3756bfc0",
   "metadata": {},
   "outputs": [
    {
     "data": {
      "text/plain": [
       "Unknown    6767\n",
       "E          3991\n",
       "T          2961\n",
       "M          1563\n",
       "E10+       1420\n",
       "EC            8\n",
       "RP            4\n",
       "K-A           3\n",
       "Name: Rating, dtype: int64"
      ]
     },
     "execution_count": 76,
     "metadata": {},
     "output_type": "execute_result"
    }
   ],
   "source": [
    "video_df['Rating'].value_counts()"
   ]
  },
  {
   "cell_type": "markdown",
   "id": "a25ba613",
   "metadata": {},
   "source": [
    "**Rating as Target**"
   ]
  },
  {
   "cell_type": "code",
   "execution_count": 77,
   "id": "cee12d32",
   "metadata": {},
   "outputs": [],
   "source": [
    "video_game_float_df = video_df.select_dtypes(include = \"float64\")"
   ]
  },
  {
   "cell_type": "code",
   "execution_count": 78,
   "id": "8738584c",
   "metadata": {
    "scrolled": true
   },
   "outputs": [
    {
     "data": {
      "text/html": [
       "<div>\n",
       "<style scoped>\n",
       "    .dataframe tbody tr th:only-of-type {\n",
       "        vertical-align: middle;\n",
       "    }\n",
       "\n",
       "    .dataframe tbody tr th {\n",
       "        vertical-align: top;\n",
       "    }\n",
       "\n",
       "    .dataframe thead th {\n",
       "        text-align: right;\n",
       "    }\n",
       "</style>\n",
       "<table border=\"1\" class=\"dataframe\">\n",
       "  <thead>\n",
       "    <tr style=\"text-align: right;\">\n",
       "      <th></th>\n",
       "      <th>Genre_Action</th>\n",
       "      <th>Genre_Adventure</th>\n",
       "      <th>Genre_Fighting</th>\n",
       "      <th>Genre_Misc</th>\n",
       "      <th>Genre_Platform</th>\n",
       "      <th>Genre_Puzzle</th>\n",
       "      <th>Genre_Racing</th>\n",
       "      <th>Genre_Role-Playing</th>\n",
       "      <th>Genre_Shooter</th>\n",
       "      <th>Genre_Simulation</th>\n",
       "      <th>Genre_Sports</th>\n",
       "      <th>Genre_Strategy</th>\n",
       "      <th>Rating</th>\n",
       "      <th>NA_Sales</th>\n",
       "      <th>EU_Sales</th>\n",
       "      <th>JP_Sales</th>\n",
       "      <th>Other_Sales</th>\n",
       "      <th>Global_Sales</th>\n",
       "      <th>Critic_Score</th>\n",
       "      <th>User_Score</th>\n",
       "    </tr>\n",
       "  </thead>\n",
       "  <tbody>\n",
       "    <tr>\n",
       "      <th>0</th>\n",
       "      <td>0.0</td>\n",
       "      <td>0.0</td>\n",
       "      <td>0.0</td>\n",
       "      <td>0.0</td>\n",
       "      <td>0.0</td>\n",
       "      <td>0.0</td>\n",
       "      <td>0.0</td>\n",
       "      <td>0.0</td>\n",
       "      <td>0.0</td>\n",
       "      <td>0.0</td>\n",
       "      <td>1.0</td>\n",
       "      <td>0.0</td>\n",
       "      <td>0.0</td>\n",
       "      <td>41.36</td>\n",
       "      <td>28.96</td>\n",
       "      <td>3.77</td>\n",
       "      <td>8.45</td>\n",
       "      <td>82.53</td>\n",
       "      <td>76.0</td>\n",
       "      <td>8.000000</td>\n",
       "    </tr>\n",
       "    <tr>\n",
       "      <th>1</th>\n",
       "      <td>0.0</td>\n",
       "      <td>0.0</td>\n",
       "      <td>0.0</td>\n",
       "      <td>0.0</td>\n",
       "      <td>1.0</td>\n",
       "      <td>0.0</td>\n",
       "      <td>0.0</td>\n",
       "      <td>0.0</td>\n",
       "      <td>0.0</td>\n",
       "      <td>0.0</td>\n",
       "      <td>0.0</td>\n",
       "      <td>0.0</td>\n",
       "      <td>7.0</td>\n",
       "      <td>29.08</td>\n",
       "      <td>3.58</td>\n",
       "      <td>6.81</td>\n",
       "      <td>0.77</td>\n",
       "      <td>40.24</td>\n",
       "      <td>79.0</td>\n",
       "      <td>8.150000</td>\n",
       "    </tr>\n",
       "    <tr>\n",
       "      <th>2</th>\n",
       "      <td>0.0</td>\n",
       "      <td>0.0</td>\n",
       "      <td>0.0</td>\n",
       "      <td>0.0</td>\n",
       "      <td>0.0</td>\n",
       "      <td>0.0</td>\n",
       "      <td>1.0</td>\n",
       "      <td>0.0</td>\n",
       "      <td>0.0</td>\n",
       "      <td>0.0</td>\n",
       "      <td>0.0</td>\n",
       "      <td>0.0</td>\n",
       "      <td>0.0</td>\n",
       "      <td>15.68</td>\n",
       "      <td>12.76</td>\n",
       "      <td>3.79</td>\n",
       "      <td>3.29</td>\n",
       "      <td>35.52</td>\n",
       "      <td>82.0</td>\n",
       "      <td>8.300000</td>\n",
       "    </tr>\n",
       "    <tr>\n",
       "      <th>3</th>\n",
       "      <td>0.0</td>\n",
       "      <td>0.0</td>\n",
       "      <td>0.0</td>\n",
       "      <td>0.0</td>\n",
       "      <td>0.0</td>\n",
       "      <td>0.0</td>\n",
       "      <td>0.0</td>\n",
       "      <td>0.0</td>\n",
       "      <td>0.0</td>\n",
       "      <td>0.0</td>\n",
       "      <td>1.0</td>\n",
       "      <td>0.0</td>\n",
       "      <td>0.0</td>\n",
       "      <td>15.61</td>\n",
       "      <td>10.93</td>\n",
       "      <td>3.28</td>\n",
       "      <td>2.95</td>\n",
       "      <td>32.77</td>\n",
       "      <td>80.0</td>\n",
       "      <td>8.000000</td>\n",
       "    </tr>\n",
       "    <tr>\n",
       "      <th>4</th>\n",
       "      <td>0.0</td>\n",
       "      <td>0.0</td>\n",
       "      <td>0.0</td>\n",
       "      <td>0.0</td>\n",
       "      <td>0.0</td>\n",
       "      <td>0.0</td>\n",
       "      <td>0.0</td>\n",
       "      <td>1.0</td>\n",
       "      <td>0.0</td>\n",
       "      <td>0.0</td>\n",
       "      <td>0.0</td>\n",
       "      <td>0.0</td>\n",
       "      <td>7.0</td>\n",
       "      <td>11.27</td>\n",
       "      <td>8.89</td>\n",
       "      <td>10.22</td>\n",
       "      <td>1.00</td>\n",
       "      <td>31.37</td>\n",
       "      <td>83.0</td>\n",
       "      <td>8.166667</td>\n",
       "    </tr>\n",
       "    <tr>\n",
       "      <th>...</th>\n",
       "      <td>...</td>\n",
       "      <td>...</td>\n",
       "      <td>...</td>\n",
       "      <td>...</td>\n",
       "      <td>...</td>\n",
       "      <td>...</td>\n",
       "      <td>...</td>\n",
       "      <td>...</td>\n",
       "      <td>...</td>\n",
       "      <td>...</td>\n",
       "      <td>...</td>\n",
       "      <td>...</td>\n",
       "      <td>...</td>\n",
       "      <td>...</td>\n",
       "      <td>...</td>\n",
       "      <td>...</td>\n",
       "      <td>...</td>\n",
       "      <td>...</td>\n",
       "      <td>...</td>\n",
       "      <td>...</td>\n",
       "    </tr>\n",
       "    <tr>\n",
       "      <th>16714</th>\n",
       "      <td>0.0</td>\n",
       "      <td>1.0</td>\n",
       "      <td>0.0</td>\n",
       "      <td>0.0</td>\n",
       "      <td>0.0</td>\n",
       "      <td>0.0</td>\n",
       "      <td>0.0</td>\n",
       "      <td>0.0</td>\n",
       "      <td>0.0</td>\n",
       "      <td>0.0</td>\n",
       "      <td>0.0</td>\n",
       "      <td>0.0</td>\n",
       "      <td>7.0</td>\n",
       "      <td>0.00</td>\n",
       "      <td>0.00</td>\n",
       "      <td>0.01</td>\n",
       "      <td>0.00</td>\n",
       "      <td>0.01</td>\n",
       "      <td>63.0</td>\n",
       "      <td>5.800000</td>\n",
       "    </tr>\n",
       "    <tr>\n",
       "      <th>16715</th>\n",
       "      <td>0.0</td>\n",
       "      <td>0.0</td>\n",
       "      <td>0.0</td>\n",
       "      <td>0.0</td>\n",
       "      <td>1.0</td>\n",
       "      <td>0.0</td>\n",
       "      <td>0.0</td>\n",
       "      <td>0.0</td>\n",
       "      <td>0.0</td>\n",
       "      <td>0.0</td>\n",
       "      <td>0.0</td>\n",
       "      <td>0.0</td>\n",
       "      <td>7.0</td>\n",
       "      <td>0.00</td>\n",
       "      <td>0.01</td>\n",
       "      <td>0.00</td>\n",
       "      <td>0.00</td>\n",
       "      <td>0.01</td>\n",
       "      <td>63.0</td>\n",
       "      <td>5.800000</td>\n",
       "    </tr>\n",
       "    <tr>\n",
       "      <th>16716</th>\n",
       "      <td>0.0</td>\n",
       "      <td>0.0</td>\n",
       "      <td>0.0</td>\n",
       "      <td>0.0</td>\n",
       "      <td>0.0</td>\n",
       "      <td>0.0</td>\n",
       "      <td>0.0</td>\n",
       "      <td>0.0</td>\n",
       "      <td>0.0</td>\n",
       "      <td>1.0</td>\n",
       "      <td>0.0</td>\n",
       "      <td>0.0</td>\n",
       "      <td>7.0</td>\n",
       "      <td>0.00</td>\n",
       "      <td>0.00</td>\n",
       "      <td>0.01</td>\n",
       "      <td>0.00</td>\n",
       "      <td>0.01</td>\n",
       "      <td>63.0</td>\n",
       "      <td>5.800000</td>\n",
       "    </tr>\n",
       "    <tr>\n",
       "      <th>16717</th>\n",
       "      <td>NaN</td>\n",
       "      <td>NaN</td>\n",
       "      <td>NaN</td>\n",
       "      <td>NaN</td>\n",
       "      <td>NaN</td>\n",
       "      <td>NaN</td>\n",
       "      <td>NaN</td>\n",
       "      <td>NaN</td>\n",
       "      <td>NaN</td>\n",
       "      <td>NaN</td>\n",
       "      <td>NaN</td>\n",
       "      <td>NaN</td>\n",
       "      <td>NaN</td>\n",
       "      <td>0.01</td>\n",
       "      <td>0.00</td>\n",
       "      <td>0.00</td>\n",
       "      <td>0.00</td>\n",
       "      <td>0.01</td>\n",
       "      <td>63.0</td>\n",
       "      <td>5.800000</td>\n",
       "    </tr>\n",
       "    <tr>\n",
       "      <th>16718</th>\n",
       "      <td>NaN</td>\n",
       "      <td>NaN</td>\n",
       "      <td>NaN</td>\n",
       "      <td>NaN</td>\n",
       "      <td>NaN</td>\n",
       "      <td>NaN</td>\n",
       "      <td>NaN</td>\n",
       "      <td>NaN</td>\n",
       "      <td>NaN</td>\n",
       "      <td>NaN</td>\n",
       "      <td>NaN</td>\n",
       "      <td>NaN</td>\n",
       "      <td>NaN</td>\n",
       "      <td>0.00</td>\n",
       "      <td>0.00</td>\n",
       "      <td>0.01</td>\n",
       "      <td>0.00</td>\n",
       "      <td>0.01</td>\n",
       "      <td>63.0</td>\n",
       "      <td>5.800000</td>\n",
       "    </tr>\n",
       "  </tbody>\n",
       "</table>\n",
       "<p>16719 rows × 20 columns</p>\n",
       "</div>"
      ],
      "text/plain": [
       "       Genre_Action  Genre_Adventure  Genre_Fighting  Genre_Misc  \\\n",
       "0               0.0              0.0             0.0         0.0   \n",
       "1               0.0              0.0             0.0         0.0   \n",
       "2               0.0              0.0             0.0         0.0   \n",
       "3               0.0              0.0             0.0         0.0   \n",
       "4               0.0              0.0             0.0         0.0   \n",
       "...             ...              ...             ...         ...   \n",
       "16714           0.0              1.0             0.0         0.0   \n",
       "16715           0.0              0.0             0.0         0.0   \n",
       "16716           0.0              0.0             0.0         0.0   \n",
       "16717           NaN              NaN             NaN         NaN   \n",
       "16718           NaN              NaN             NaN         NaN   \n",
       "\n",
       "       Genre_Platform  Genre_Puzzle  Genre_Racing  Genre_Role-Playing  \\\n",
       "0                 0.0           0.0           0.0                 0.0   \n",
       "1                 1.0           0.0           0.0                 0.0   \n",
       "2                 0.0           0.0           1.0                 0.0   \n",
       "3                 0.0           0.0           0.0                 0.0   \n",
       "4                 0.0           0.0           0.0                 1.0   \n",
       "...               ...           ...           ...                 ...   \n",
       "16714             0.0           0.0           0.0                 0.0   \n",
       "16715             1.0           0.0           0.0                 0.0   \n",
       "16716             0.0           0.0           0.0                 0.0   \n",
       "16717             NaN           NaN           NaN                 NaN   \n",
       "16718             NaN           NaN           NaN                 NaN   \n",
       "\n",
       "       Genre_Shooter  Genre_Simulation  Genre_Sports  Genre_Strategy  Rating  \\\n",
       "0                0.0               0.0           1.0             0.0     0.0   \n",
       "1                0.0               0.0           0.0             0.0     7.0   \n",
       "2                0.0               0.0           0.0             0.0     0.0   \n",
       "3                0.0               0.0           1.0             0.0     0.0   \n",
       "4                0.0               0.0           0.0             0.0     7.0   \n",
       "...              ...               ...           ...             ...     ...   \n",
       "16714            0.0               0.0           0.0             0.0     7.0   \n",
       "16715            0.0               0.0           0.0             0.0     7.0   \n",
       "16716            0.0               1.0           0.0             0.0     7.0   \n",
       "16717            NaN               NaN           NaN             NaN     NaN   \n",
       "16718            NaN               NaN           NaN             NaN     NaN   \n",
       "\n",
       "       NA_Sales  EU_Sales  JP_Sales  Other_Sales  Global_Sales  Critic_Score  \\\n",
       "0         41.36     28.96      3.77         8.45         82.53          76.0   \n",
       "1         29.08      3.58      6.81         0.77         40.24          79.0   \n",
       "2         15.68     12.76      3.79         3.29         35.52          82.0   \n",
       "3         15.61     10.93      3.28         2.95         32.77          80.0   \n",
       "4         11.27      8.89     10.22         1.00         31.37          83.0   \n",
       "...         ...       ...       ...          ...           ...           ...   \n",
       "16714      0.00      0.00      0.01         0.00          0.01          63.0   \n",
       "16715      0.00      0.01      0.00         0.00          0.01          63.0   \n",
       "16716      0.00      0.00      0.01         0.00          0.01          63.0   \n",
       "16717      0.01      0.00      0.00         0.00          0.01          63.0   \n",
       "16718      0.00      0.00      0.01         0.00          0.01          63.0   \n",
       "\n",
       "       User_Score  \n",
       "0        8.000000  \n",
       "1        8.150000  \n",
       "2        8.300000  \n",
       "3        8.000000  \n",
       "4        8.166667  \n",
       "...           ...  \n",
       "16714    5.800000  \n",
       "16715    5.800000  \n",
       "16716    5.800000  \n",
       "16717    5.800000  \n",
       "16718    5.800000  \n",
       "\n",
       "[16719 rows x 20 columns]"
      ]
     },
     "execution_count": 78,
     "metadata": {},
     "output_type": "execute_result"
    }
   ],
   "source": [
    "hot_encoder = OneHotEncoder(sparse=False) #create an instance of OneHotEncoder\n",
    "encoded_genre = hot_encoder.fit_transform(video_df[['Genre']]) #Applying One-hot encoding on 'Genre' column\n",
    "\n",
    "feature_names =hot_encoder.get_feature_names_out(['Genre']) #getting features name for 'Genre' column\n",
    "video_game_model_hot_encoded_genre = pd.DataFrame(data=encoded_genre, columns=feature_names)\n",
    "\n",
    "#Intializing the encoder\n",
    "label_encoder = LabelEncoder()\n",
    "\n",
    "#Converting the target variable to numerical using Lable encoding.\n",
    "\n",
    "labeled_rating = label_encoder.fit_transform(video_df['Rating'])\n",
    "df_labeled_rating = pd.DataFrame(labeled_rating, columns=['Rating'])\n",
    "\n",
    "encoded_data_class = pd.concat([video_game_model_hot_encoded_genre, df_labeled_rating, video_game_float_df], axis=1)\n",
    "encoded_data_class"
   ]
  },
  {
   "cell_type": "code",
   "execution_count": 79,
   "id": "6834966c",
   "metadata": {},
   "outputs": [],
   "source": [
    "# Replacing NaN with value 0.\n",
    "encoded_data_class = encoded_data_class.replace(np.nan, 0)"
   ]
  },
  {
   "cell_type": "code",
   "execution_count": 80,
   "id": "b7433035",
   "metadata": {},
   "outputs": [],
   "source": [
    "# Split data into input and output variables\n",
    "X = encoded_data_class.drop(['Rating'],axis=1)\n",
    "y= encoded_data_class['Rating']\n",
    "\n",
    "clf = DecisionTreeClassifier() #Initializing the classifier\n",
    "\n",
    "cv=StratifiedKFold(n_splits=5, shuffle=True, random_state=42)\n",
    "\n",
    "#Perform cross_validation\n",
    "\n",
    "scores = cross_val_score(clf,X,y,cv=cv)\n",
    "\n",
    "#Fit classifier on the dataset.\n",
    "\n",
    "clf.fit(X, y)\n",
    "\n",
    "#Making predictions on the test data.\n",
    "\n",
    "y_pred = clf.predict(X)"
   ]
  },
  {
   "cell_type": "code",
   "execution_count": 81,
   "id": "54163194",
   "metadata": {},
   "outputs": [
    {
     "data": {
      "text/plain": [
       "array([0., 7., 0., ..., 7., 0., 0.])"
      ]
     },
     "execution_count": 81,
     "metadata": {},
     "output_type": "execute_result"
    }
   ],
   "source": [
    "y_pred"
   ]
  },
  {
   "cell_type": "code",
   "execution_count": 82,
   "id": "a2906ab0",
   "metadata": {},
   "outputs": [
    {
     "name": "stdout",
     "output_type": "stream",
     "text": [
      "Cross-validation scores:  [0.36692584 0.35047847 0.35047847 0.35047847 0.35746336]\n",
      "Mean score:  0.35516492005719297\n",
      "Standard deviation:  0.0064728735078876665\n",
      "Train score:  0.3681106670729683\n"
     ]
    }
   ],
   "source": [
    "# Printing the mean and standard deviation of scores.\n",
    "\n",
    "print('Cross-validation scores: ', scores)\n",
    "print('Mean score: ', scores.mean())\n",
    "print('Standard deviation: ', scores.std())\n",
    "print('Train score: ', scores.mean() + 2*scores.std())"
   ]
  },
  {
   "cell_type": "code",
   "execution_count": 83,
   "id": "b8514513",
   "metadata": {},
   "outputs": [
    {
     "name": "stdout",
     "output_type": "stream",
     "text": [
      "Classification Report: \n",
      "              precision    recall  f1-score   support\n",
      "\n",
      "         0.0       1.00      1.00      1.00      3993\n",
      "         1.0       1.00      1.00      1.00      1420\n",
      "         2.0       1.00      1.00      1.00         8\n",
      "         3.0       1.00      1.00      1.00         3\n",
      "         4.0       1.00      1.00      1.00      1563\n",
      "         5.0       1.00      1.00      1.00         4\n",
      "         6.0       1.00      1.00      1.00      2961\n",
      "         7.0       1.00      1.00      1.00      6767\n",
      "\n",
      "    accuracy                           1.00     16719\n",
      "   macro avg       1.00      1.00      1.00     16719\n",
      "weighted avg       1.00      1.00      1.00     16719\n",
      "\n"
     ]
    }
   ],
   "source": [
    "#Printing the Classification report\n",
    "print('Classification Report: ')\n",
    "print(classification_report(y, y_pred))"
   ]
  },
  {
   "cell_type": "code",
   "execution_count": 84,
   "id": "7b45ac5c",
   "metadata": {},
   "outputs": [
    {
     "name": "stdout",
     "output_type": "stream",
     "text": [
      "Confusion Matrix: \n",
      "[[3993    0    0    0    0    0    0    0]\n",
      " [   0 1420    0    0    0    0    0    0]\n",
      " [   0    0    8    0    0    0    0    0]\n",
      " [   0    0    0    3    0    0    0    0]\n",
      " [   0    0    0    0 1563    0    0    0]\n",
      " [   0    0    0    0    0    4    0    0]\n",
      " [   0    0    0    0    0    0 2961    0]\n",
      " [   1    0    0    0    1    0    0 6765]]\n"
     ]
    }
   ],
   "source": [
    "# Printing the confusion Matrix\n",
    "print('Confusion Matrix: ')\n",
    "print(confusion_matrix(y, y_pred))"
   ]
  },
  {
   "cell_type": "markdown",
   "id": "2b966a37",
   "metadata": {},
   "source": [
    "**Findings:**\n",
    "- Based on the values in the matrix, it appears that the classifier has correctly classified all instances for each class with no false positives or false negatives. The support values also indicate that there are enough samples for each class to make a valid assessment of the classifier's performance.\n",
    "\n",
    "- Therefore, the classification report and confusion matrix suggest that the classifier has performed very well on the dataset.\n",
    "\n",
    "- This confusion matrix has an overall accuracy of 99.99%."
   ]
  },
  {
   "cell_type": "markdown",
   "id": "033e17d7",
   "metadata": {},
   "source": [
    "**Genre as Target**"
   ]
  },
  {
   "cell_type": "markdown",
   "id": "ba96c6c5",
   "metadata": {},
   "source": [
    "Using Label Encoder on 'Genre' as it is the target variable."
   ]
  },
  {
   "cell_type": "code",
   "execution_count": 103,
   "id": "08fcd02b",
   "metadata": {},
   "outputs": [
    {
     "data": {
      "text/html": [
       "<div>\n",
       "<style scoped>\n",
       "    .dataframe tbody tr th:only-of-type {\n",
       "        vertical-align: middle;\n",
       "    }\n",
       "\n",
       "    .dataframe tbody tr th {\n",
       "        vertical-align: top;\n",
       "    }\n",
       "\n",
       "    .dataframe thead th {\n",
       "        text-align: right;\n",
       "    }\n",
       "</style>\n",
       "<table border=\"1\" class=\"dataframe\">\n",
       "  <thead>\n",
       "    <tr style=\"text-align: right;\">\n",
       "      <th></th>\n",
       "      <th>Rating_E</th>\n",
       "      <th>Rating_E10+</th>\n",
       "      <th>Rating_EC</th>\n",
       "      <th>Rating_K-A</th>\n",
       "      <th>Rating_M</th>\n",
       "      <th>Rating_RP</th>\n",
       "      <th>Rating_T</th>\n",
       "      <th>Rating_Unknown</th>\n",
       "      <th>Genre</th>\n",
       "      <th>NA_Sales</th>\n",
       "      <th>EU_Sales</th>\n",
       "      <th>JP_Sales</th>\n",
       "      <th>Other_Sales</th>\n",
       "      <th>Global_Sales</th>\n",
       "      <th>Critic_Score</th>\n",
       "      <th>User_Score</th>\n",
       "    </tr>\n",
       "  </thead>\n",
       "  <tbody>\n",
       "    <tr>\n",
       "      <th>0</th>\n",
       "      <td>1.0</td>\n",
       "      <td>0.0</td>\n",
       "      <td>0.0</td>\n",
       "      <td>0.0</td>\n",
       "      <td>0.0</td>\n",
       "      <td>0.0</td>\n",
       "      <td>0.0</td>\n",
       "      <td>0.0</td>\n",
       "      <td>10.0</td>\n",
       "      <td>41.36</td>\n",
       "      <td>28.96</td>\n",
       "      <td>3.77</td>\n",
       "      <td>8.45</td>\n",
       "      <td>82.53</td>\n",
       "      <td>76.0</td>\n",
       "      <td>8.000000</td>\n",
       "    </tr>\n",
       "    <tr>\n",
       "      <th>1</th>\n",
       "      <td>0.0</td>\n",
       "      <td>0.0</td>\n",
       "      <td>0.0</td>\n",
       "      <td>0.0</td>\n",
       "      <td>0.0</td>\n",
       "      <td>0.0</td>\n",
       "      <td>0.0</td>\n",
       "      <td>1.0</td>\n",
       "      <td>4.0</td>\n",
       "      <td>29.08</td>\n",
       "      <td>3.58</td>\n",
       "      <td>6.81</td>\n",
       "      <td>0.77</td>\n",
       "      <td>40.24</td>\n",
       "      <td>79.0</td>\n",
       "      <td>8.150000</td>\n",
       "    </tr>\n",
       "    <tr>\n",
       "      <th>2</th>\n",
       "      <td>1.0</td>\n",
       "      <td>0.0</td>\n",
       "      <td>0.0</td>\n",
       "      <td>0.0</td>\n",
       "      <td>0.0</td>\n",
       "      <td>0.0</td>\n",
       "      <td>0.0</td>\n",
       "      <td>0.0</td>\n",
       "      <td>6.0</td>\n",
       "      <td>15.68</td>\n",
       "      <td>12.76</td>\n",
       "      <td>3.79</td>\n",
       "      <td>3.29</td>\n",
       "      <td>35.52</td>\n",
       "      <td>82.0</td>\n",
       "      <td>8.300000</td>\n",
       "    </tr>\n",
       "    <tr>\n",
       "      <th>3</th>\n",
       "      <td>1.0</td>\n",
       "      <td>0.0</td>\n",
       "      <td>0.0</td>\n",
       "      <td>0.0</td>\n",
       "      <td>0.0</td>\n",
       "      <td>0.0</td>\n",
       "      <td>0.0</td>\n",
       "      <td>0.0</td>\n",
       "      <td>10.0</td>\n",
       "      <td>15.61</td>\n",
       "      <td>10.93</td>\n",
       "      <td>3.28</td>\n",
       "      <td>2.95</td>\n",
       "      <td>32.77</td>\n",
       "      <td>80.0</td>\n",
       "      <td>8.000000</td>\n",
       "    </tr>\n",
       "    <tr>\n",
       "      <th>4</th>\n",
       "      <td>0.0</td>\n",
       "      <td>0.0</td>\n",
       "      <td>0.0</td>\n",
       "      <td>0.0</td>\n",
       "      <td>0.0</td>\n",
       "      <td>0.0</td>\n",
       "      <td>0.0</td>\n",
       "      <td>1.0</td>\n",
       "      <td>7.0</td>\n",
       "      <td>11.27</td>\n",
       "      <td>8.89</td>\n",
       "      <td>10.22</td>\n",
       "      <td>1.00</td>\n",
       "      <td>31.37</td>\n",
       "      <td>83.0</td>\n",
       "      <td>8.166667</td>\n",
       "    </tr>\n",
       "    <tr>\n",
       "      <th>...</th>\n",
       "      <td>...</td>\n",
       "      <td>...</td>\n",
       "      <td>...</td>\n",
       "      <td>...</td>\n",
       "      <td>...</td>\n",
       "      <td>...</td>\n",
       "      <td>...</td>\n",
       "      <td>...</td>\n",
       "      <td>...</td>\n",
       "      <td>...</td>\n",
       "      <td>...</td>\n",
       "      <td>...</td>\n",
       "      <td>...</td>\n",
       "      <td>...</td>\n",
       "      <td>...</td>\n",
       "      <td>...</td>\n",
       "    </tr>\n",
       "    <tr>\n",
       "      <th>16714</th>\n",
       "      <td>0.0</td>\n",
       "      <td>0.0</td>\n",
       "      <td>0.0</td>\n",
       "      <td>0.0</td>\n",
       "      <td>0.0</td>\n",
       "      <td>0.0</td>\n",
       "      <td>0.0</td>\n",
       "      <td>1.0</td>\n",
       "      <td>1.0</td>\n",
       "      <td>0.00</td>\n",
       "      <td>0.00</td>\n",
       "      <td>0.01</td>\n",
       "      <td>0.00</td>\n",
       "      <td>0.01</td>\n",
       "      <td>63.0</td>\n",
       "      <td>5.800000</td>\n",
       "    </tr>\n",
       "    <tr>\n",
       "      <th>16715</th>\n",
       "      <td>0.0</td>\n",
       "      <td>0.0</td>\n",
       "      <td>0.0</td>\n",
       "      <td>0.0</td>\n",
       "      <td>0.0</td>\n",
       "      <td>0.0</td>\n",
       "      <td>0.0</td>\n",
       "      <td>1.0</td>\n",
       "      <td>4.0</td>\n",
       "      <td>0.00</td>\n",
       "      <td>0.01</td>\n",
       "      <td>0.00</td>\n",
       "      <td>0.00</td>\n",
       "      <td>0.01</td>\n",
       "      <td>63.0</td>\n",
       "      <td>5.800000</td>\n",
       "    </tr>\n",
       "    <tr>\n",
       "      <th>16716</th>\n",
       "      <td>0.0</td>\n",
       "      <td>0.0</td>\n",
       "      <td>0.0</td>\n",
       "      <td>0.0</td>\n",
       "      <td>0.0</td>\n",
       "      <td>0.0</td>\n",
       "      <td>0.0</td>\n",
       "      <td>1.0</td>\n",
       "      <td>9.0</td>\n",
       "      <td>0.00</td>\n",
       "      <td>0.00</td>\n",
       "      <td>0.01</td>\n",
       "      <td>0.00</td>\n",
       "      <td>0.01</td>\n",
       "      <td>63.0</td>\n",
       "      <td>5.800000</td>\n",
       "    </tr>\n",
       "    <tr>\n",
       "      <th>16717</th>\n",
       "      <td>NaN</td>\n",
       "      <td>NaN</td>\n",
       "      <td>NaN</td>\n",
       "      <td>NaN</td>\n",
       "      <td>NaN</td>\n",
       "      <td>NaN</td>\n",
       "      <td>NaN</td>\n",
       "      <td>NaN</td>\n",
       "      <td>NaN</td>\n",
       "      <td>0.01</td>\n",
       "      <td>0.00</td>\n",
       "      <td>0.00</td>\n",
       "      <td>0.00</td>\n",
       "      <td>0.01</td>\n",
       "      <td>63.0</td>\n",
       "      <td>5.800000</td>\n",
       "    </tr>\n",
       "    <tr>\n",
       "      <th>16718</th>\n",
       "      <td>NaN</td>\n",
       "      <td>NaN</td>\n",
       "      <td>NaN</td>\n",
       "      <td>NaN</td>\n",
       "      <td>NaN</td>\n",
       "      <td>NaN</td>\n",
       "      <td>NaN</td>\n",
       "      <td>NaN</td>\n",
       "      <td>NaN</td>\n",
       "      <td>0.00</td>\n",
       "      <td>0.00</td>\n",
       "      <td>0.01</td>\n",
       "      <td>0.00</td>\n",
       "      <td>0.01</td>\n",
       "      <td>63.0</td>\n",
       "      <td>5.800000</td>\n",
       "    </tr>\n",
       "  </tbody>\n",
       "</table>\n",
       "<p>16719 rows × 16 columns</p>\n",
       "</div>"
      ],
      "text/plain": [
       "       Rating_E  Rating_E10+  Rating_EC  Rating_K-A  Rating_M  Rating_RP  \\\n",
       "0           1.0          0.0        0.0         0.0       0.0        0.0   \n",
       "1           0.0          0.0        0.0         0.0       0.0        0.0   \n",
       "2           1.0          0.0        0.0         0.0       0.0        0.0   \n",
       "3           1.0          0.0        0.0         0.0       0.0        0.0   \n",
       "4           0.0          0.0        0.0         0.0       0.0        0.0   \n",
       "...         ...          ...        ...         ...       ...        ...   \n",
       "16714       0.0          0.0        0.0         0.0       0.0        0.0   \n",
       "16715       0.0          0.0        0.0         0.0       0.0        0.0   \n",
       "16716       0.0          0.0        0.0         0.0       0.0        0.0   \n",
       "16717       NaN          NaN        NaN         NaN       NaN        NaN   \n",
       "16718       NaN          NaN        NaN         NaN       NaN        NaN   \n",
       "\n",
       "       Rating_T  Rating_Unknown  Genre  NA_Sales  EU_Sales  JP_Sales  \\\n",
       "0           0.0             0.0   10.0     41.36     28.96      3.77   \n",
       "1           0.0             1.0    4.0     29.08      3.58      6.81   \n",
       "2           0.0             0.0    6.0     15.68     12.76      3.79   \n",
       "3           0.0             0.0   10.0     15.61     10.93      3.28   \n",
       "4           0.0             1.0    7.0     11.27      8.89     10.22   \n",
       "...         ...             ...    ...       ...       ...       ...   \n",
       "16714       0.0             1.0    1.0      0.00      0.00      0.01   \n",
       "16715       0.0             1.0    4.0      0.00      0.01      0.00   \n",
       "16716       0.0             1.0    9.0      0.00      0.00      0.01   \n",
       "16717       NaN             NaN    NaN      0.01      0.00      0.00   \n",
       "16718       NaN             NaN    NaN      0.00      0.00      0.01   \n",
       "\n",
       "       Other_Sales  Global_Sales  Critic_Score  User_Score  \n",
       "0             8.45         82.53          76.0    8.000000  \n",
       "1             0.77         40.24          79.0    8.150000  \n",
       "2             3.29         35.52          82.0    8.300000  \n",
       "3             2.95         32.77          80.0    8.000000  \n",
       "4             1.00         31.37          83.0    8.166667  \n",
       "...            ...           ...           ...         ...  \n",
       "16714         0.00          0.01          63.0    5.800000  \n",
       "16715         0.00          0.01          63.0    5.800000  \n",
       "16716         0.00          0.01          63.0    5.800000  \n",
       "16717         0.00          0.01          63.0    5.800000  \n",
       "16718         0.00          0.01          63.0    5.800000  \n",
       "\n",
       "[16719 rows x 16 columns]"
      ]
     },
     "execution_count": 103,
     "metadata": {},
     "output_type": "execute_result"
    }
   ],
   "source": [
    "hot_encoder = OneHotEncoder(sparse=False) #create an instance of OneHotEncoder\n",
    "encoded_rating = hot_encoder.fit_transform(video_df[['Rating']]) #Applying One-hot encoding on 'Rating' column\n",
    "\n",
    "feature_names =hot_encoder.get_feature_names_out(['Rating']) #getting features name for 'Genre' column\n",
    "video_game_model_hot_encoded_rating = pd.DataFrame(data=encoded_rating, columns=feature_names)\n",
    "\n",
    "#Intializing the encoder\n",
    "label_encoder = LabelEncoder()\n",
    "\n",
    "#Converting the target variable to numerical using Lable encoding.\n",
    "\n",
    "labeled_genre = label_encoder.fit_transform(video_df['Genre'])\n",
    "df_labeled_genre = pd.DataFrame(labeled_genre, columns=['Genre'])\n",
    "\n",
    "encoded_data_class = pd.concat([video_game_model_hot_encoded_rating, df_labeled_genre, video_game_float_df], axis=1)\n",
    "encoded_data_class"
   ]
  },
  {
   "cell_type": "code",
   "execution_count": 104,
   "id": "8281b260",
   "metadata": {},
   "outputs": [],
   "source": [
    "# Replacing NaN with value 0.\n",
    "encoded_data_class = encoded_data_class.replace(np.nan, 0)"
   ]
  },
  {
   "cell_type": "code",
   "execution_count": 105,
   "id": "72df2460",
   "metadata": {},
   "outputs": [],
   "source": [
    "# Split data into input(X) and output(Y) variables\n",
    "X = encoded_data_class.drop(['Genre'],axis=1)\n",
    "y= encoded_data_class['Genre']"
   ]
  },
  {
   "cell_type": "code",
   "execution_count": 106,
   "id": "36c4fc75",
   "metadata": {},
   "outputs": [
    {
     "data": {
      "image/png": "[encoded data removed]",
      "text/plain": [
       "<Figure size 640x480 with 1 Axes>"
      ]
     },
     "metadata": {},
     "output_type": "display_data"
    }
   ],
   "source": [
    "#Plotting of the target(Genre) variable.\n",
    "sns.countplot(y='Genre', data=encoded_data_class)\n",
    "\n",
    "plt.title('Count plot Game Genres')\n",
    "plt.xlabel('Genre')\n",
    "plt.ylabel('Count')\n",
    "\n",
    "#Show the plot\n",
    "plt.show()"
   ]
  },
  {
   "cell_type": "markdown",
   "id": "f08e1aad",
   "metadata": {},
   "source": [
    "The plot above shows that there is an uneven distribution of genres due to oversampling"
   ]
  },
  {
   "cell_type": "markdown",
   "id": "8165e10e",
   "metadata": {},
   "source": [
    "Applying SMOTE since our target 'Rating' data is not equally distributed, Synthetic Minority Oversampling Technique\n",
    "(SMOTE) will assist us to balance it."
   ]
  },
  {
   "cell_type": "code",
   "execution_count": 107,
   "id": "d8b32461",
   "metadata": {},
   "outputs": [],
   "source": [
    "# import SMOTE\n",
    "\n",
    "from imblearn.over_sampling import SMOTE\n",
    "\n",
    "sm = SMOTE(random_state=42, k_neighbors = 3) # The initialising the SMOTE object\n",
    "\n",
    "# Re-sampling the input and output variables using SMOTE\n",
    "X_sm, y_sm = sm.fit_resample(X, y) # The object is applied\n",
    "\n",
    "# reassigning the balanced dataset to X,y\n",
    "X, y = X_sm, y_sm \n"
   ]
  },
  {
   "cell_type": "code",
   "execution_count": 108,
   "id": "5cdb8c0d",
   "metadata": {},
   "outputs": [
    {
     "data": {
      "text/plain": [
       "Text(0.5, 1.0, 'Countplot of Genre')"
      ]
     },
     "execution_count": 108,
     "metadata": {},
     "output_type": "execute_result"
    },
    {
     "data": {
      "image/png": "[encoded data removed]",
      "text/plain": [
       "<Figure size 640x480 with 1 Axes>"
      ]
     },
     "metadata": {},
     "output_type": "display_data"
    }
   ],
   "source": [
    "# create the countplot\n",
    "ax = sns. countplot(y=y, data =encoded_data_class )\n",
    "# set the labels for the axes and the title\n",
    "ax.set_xlabel('Count')\n",
    "ax.set_ylabel('Genre')\n",
    "ax.set_title('Countplot of Genre')"
   ]
  },
  {
   "cell_type": "code",
   "execution_count": 109,
   "id": "c92c7279",
   "metadata": {},
   "outputs": [],
   "source": [
    "clf = DecisionTreeClassifier() #Initializing the classifier\n",
    "\n",
    "cv=StratifiedKFold(n_splits=5, shuffle=True, random_state=42)\n",
    "\n",
    "#Perform cross_validation\n",
    "\n",
    "scores = cross_val_score(clf,X,y,cv=cv)\n",
    "\n",
    "#Fit classifier on the dataset.\n",
    "\n",
    "clf.fit(X, y)\n",
    "\n",
    "#Making predictions on the test data.\n",
    "\n",
    "y_pred2 = clf.predict(X)"
   ]
  },
  {
   "cell_type": "code",
   "execution_count": 110,
   "id": "dae12c66",
   "metadata": {},
   "outputs": [
    {
     "data": {
      "text/plain": [
       "array([10.,  4.,  6., ..., 11., 11., 11.])"
      ]
     },
     "execution_count": 110,
     "metadata": {},
     "output_type": "execute_result"
    }
   ],
   "source": [
    "y_pred2"
   ]
  },
  {
   "cell_type": "code",
   "execution_count": 111,
   "id": "5bd3c0df",
   "metadata": {},
   "outputs": [
    {
     "name": "stdout",
     "output_type": "stream",
     "text": [
      "Cross-validation scores:  [0.41406153 0.41517361 0.42271098 0.40924256 0.41015818]\n",
      "Mean score:  0.4142693724992196\n",
      "Standard deviation:  0.004781055154549626\n",
      "Train score:  0.42383148280831884\n"
     ]
    }
   ],
   "source": [
    "# Printing the mean and standard deviation of scores.\n",
    "\n",
    "print('Cross-validation scores: ', scores)\n",
    "print('Mean score: ', scores.mean())\n",
    "print('Standard deviation: ', scores.std())\n",
    "print('Train score: ', scores.mean() + 2*scores.std())"
   ]
  },
  {
   "cell_type": "code",
   "execution_count": 112,
   "id": "288f1b07",
   "metadata": {},
   "outputs": [
    {
     "name": "stdout",
     "output_type": "stream",
     "text": [
      "Classification Report: \n",
      "              precision    recall  f1-score   support\n",
      "\n",
      "         0.0       1.00      1.00      1.00      3372\n",
      "         1.0       1.00      1.00      1.00      3372\n",
      "         2.0       1.00      1.00      1.00      3372\n",
      "         3.0       1.00      1.00      1.00      3372\n",
      "         4.0       1.00      1.00      1.00      3372\n",
      "         5.0       1.00      1.00      1.00      3372\n",
      "         6.0       1.00      1.00      1.00      3372\n",
      "         7.0       1.00      1.00      1.00      3372\n",
      "         8.0       1.00      1.00      1.00      3372\n",
      "         9.0       1.00      1.00      1.00      3372\n",
      "        10.0       1.00      1.00      1.00      3372\n",
      "        11.0       1.00      1.00      1.00      3372\n",
      "\n",
      "    accuracy                           1.00     40464\n",
      "   macro avg       1.00      1.00      1.00     40464\n",
      "weighted avg       1.00      1.00      1.00     40464\n",
      "\n"
     ]
    }
   ],
   "source": [
    "#Printing the Classification report\n",
    "print('Classification Report: ')\n",
    "print(classification_report(y, y_pred2))"
   ]
  },
  {
   "cell_type": "code",
   "execution_count": 113,
   "id": "d6551772",
   "metadata": {},
   "outputs": [
    {
     "name": "stdout",
     "output_type": "stream",
     "text": [
      "Confusion Matrix: \n",
      "[[3372    0    0    0    0    0    0    0    0    0    0    0]\n",
      " [   0 3372    0    0    0    0    0    0    0    0    0    0]\n",
      " [   0    0 3372    0    0    0    0    0    0    0    0    0]\n",
      " [   0    0    0 3372    0    0    0    0    0    0    0    0]\n",
      " [   1    1    0    1 3369    0    0    0    0    0    0    0]\n",
      " [   0    0    0    0    0 3372    0    0    0    0    0    0]\n",
      " [   0    1    0    0    1    0 3370    0    0    0    0    0]\n",
      " [   0    0    0    0    0    0    0 3372    0    0    0    0]\n",
      " [   0    0    0    0    0    0    0    0 3372    0    0    0]\n",
      " [   0    1    0    1    0    0    0    0    0 3370    0    0]\n",
      " [   0    0    0    0    0    0    0    0    0    0 3372    0]\n",
      " [   0    0    0    0    0    0    0    0    0    0    0 3372]]\n"
     ]
    }
   ],
   "source": [
    "# Printing the confusion Matrix\n",
    "print('Confusion Matrix: ')\n",
    "print(confusion_matrix(y, y_pred2))"
   ]
  },
  {
   "cell_type": "markdown",
   "id": "0ec391d7",
   "metadata": {},
   "source": [
    "**Findings:**\n",
    "\n",
    "The confusion matrix shows the number of instances that were correctly or incorrectly classified for each class. Diagonal values were correctly classified while the in-correctly classified values are the Off-Diagonals. In this case we can see that the model has an overall accuracy of 99.79%. Hence, the Genre can be a good prediction of sales. However, comparing it overall accuracy to that of Rating which is 99.99%, it can be concluded that Rating variablr would performed best in classifying the dataset."
   ]
  },
  {
   "cell_type": "markdown",
   "id": "adb9d10b",
   "metadata": {},
   "source": [
    "## Question 2E"
   ]
  },
  {
   "cell_type": "code",
   "execution_count": 114,
   "id": "03412abc",
   "metadata": {},
   "outputs": [
    {
     "name": "stdout",
     "output_type": "stream",
     "text": [
      "Training accuracy: 0.19505112600784652\n",
      "Testing accuracy: 0.19288273816878784\n"
     ]
    }
   ],
   "source": [
    "from sklearn.metrics import accuracy_score\n",
    "from sklearn.linear_model import LogisticRegression\n",
    "\n",
    "# Split the data into training and testing sets\n",
    "X_train, X_test, y_train, y_test = train_test_split(X, y, test_size=0.2, random_state=42)\n",
    "\n",
    "# Fit a logistic regression model on the training data\n",
    "model = LogisticRegression()\n",
    "model.fit(X_train, y_train)\n",
    "\n",
    "# Evaluate the model on the training set\n",
    "train_preds = model.predict(X_train)\n",
    "train_acc = accuracy_score(y_train, train_preds)\n",
    "\n",
    "# Evaluate the model on the testing set\n",
    "test_preds = model.predict(X_test)\n",
    "test_acc = accuracy_score(y_test, test_preds)\n",
    "\n",
    "# Print the training and testing accuracies\n",
    "print('Training accuracy:', train_acc)\n",
    "print('Testing accuracy:', test_acc)"
   ]
  },
  {
   "cell_type": "markdown",
   "id": "9d64aaa4",
   "metadata": {},
   "source": [
    "## Question 2F\n",
    "\n",
    "- Can your classification models be deployed in practice based on their performances? Explain."
   ]
  },
  {
   "cell_type": "markdown",
   "id": "b22f5925",
   "metadata": {},
   "source": [
    "Yes, they can be deployed in practice has their performance was satisfactory and most especially they did not overfit."
   ]
  }
 ],
 "metadata": {
  "kernelspec": {
   "display_name": "Python 3 (ipykernel)",
   "language": "python",
   "name": "python3"
  },
  "language_info": {
   "codemirror_mode": {
    "name": "ipython",
    "version": 3
   },
   "file_extension": ".py",
   "mimetype": "text/x-python",
   "name": "python",
   "nbconvert_exporter": "python",
   "pygments_lexer": "ipython3",
   "version": "3.9.13"
  }
 },
 "nbformat": 4,
 "nbformat_minor": 5
}
